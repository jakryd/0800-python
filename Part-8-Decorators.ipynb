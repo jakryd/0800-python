{
 "cells": [
  {
   "cell_type": "markdown",
   "id": "sophisticated-slope",
   "metadata": {},
   "source": [
    "### Decorators"
   ]
  },
  {
   "cell_type": "code",
   "execution_count": 4,
   "id": "tough-organization",
   "metadata": {},
   "outputs": [
    {
     "name": "stdout",
     "output_type": "stream",
     "text": [
      "Before calling succ\n",
      "Value 11\n",
      "After calling succ\n",
      "Before calling random\n",
      "Value 16\n",
      "After calling random\n"
     ]
    }
   ],
   "source": [
    "def value_decorator(func):\n",
    "    def function_wrapper(x):\n",
    "        print(\"Before calling \" + func.__name__)\n",
    "        res = func(x)\n",
    "        print('Value', res)\n",
    "        print(\"After calling \" + func.__name__)\n",
    "    return function_wrapper\n",
    "\n",
    "@value_decorator\n",
    "def succ(n):\n",
    "    return n + 1\n",
    "\n",
    "@value_decorator\n",
    "def random(n):\n",
    "    return n**2\n",
    "\n",
    "succ(10)\n",
    "\n",
    "random(4)"
   ]
  },
  {
   "cell_type": "code",
   "execution_count": 6,
   "id": "fatal-prescription",
   "metadata": {},
   "outputs": [],
   "source": [
    "import functools\n",
    "import time\n",
    "\n",
    "def timer(func):\n",
    "    \"\"\"Print the runtime of the decorated function\"\"\"\n",
    "    @functools.wraps(func)\n",
    "    def wrapper_timer(*args, **kwargs):\n",
    "        start_time = time.perf_counter()    # 1\n",
    "        value = func(*args, **kwargs)\n",
    "        end_time = time.perf_counter()      # 2\n",
    "        run_time = end_time - start_time    # 3\n",
    "        print(f\"Finished {func.__name__!r} in {run_time:.4f} secs\")\n",
    "        return value\n",
    "    return wrapper_timer"
   ]
  },
  {
   "cell_type": "code",
   "execution_count": 7,
   "id": "metropolitan-kinase",
   "metadata": {},
   "outputs": [
    {
     "name": "stdout",
     "output_type": "stream",
     "text": [
      "Finished 'waste_some_time' in 1.9232 secs\n"
     ]
    }
   ],
   "source": [
    "@timer\n",
    "def waste_some_time(num_times):\n",
    "    for _ in range(num_times):\n",
    "        sum([i**2 for i in range(10000)])\n",
    "        \n",
    "waste_some_time(1000)"
   ]
  },
  {
   "cell_type": "code",
   "execution_count": 8,
   "id": "saved-cover",
   "metadata": {},
   "outputs": [
    {
     "name": "stdout",
     "output_type": "stream",
     "text": [
      "Finished 'waste_some_time_with_numpy' in 0.0433 secs\n"
     ]
    }
   ],
   "source": [
    "import numpy as np\n",
    "\n",
    "@timer\n",
    "def waste_some_time_with_numpy(num_times):\n",
    "    for _ in range(num_times):\n",
    "        np.power(np.arange(10000), 2).sum()\n",
    "        \n",
    "waste_some_time_with_numpy(1000)"
   ]
  },
  {
   "cell_type": "code",
   "execution_count": 9,
   "id": "turned-edward",
   "metadata": {},
   "outputs": [],
   "source": [
    "import functools\n",
    "\n",
    "def debug(func):\n",
    "    \"\"\"Print the function signature and return value\"\"\"\n",
    "    @functools.wraps(func)\n",
    "    def wrapper_debug(*args, **kwargs):\n",
    "        args_repr = [repr(a) for a in args]                      # 1\n",
    "        kwargs_repr = [f\"{k}={v!r}\" for k, v in kwargs.items()]  # 2\n",
    "        signature = \", \".join(args_repr + kwargs_repr)           # 3\n",
    "        print(f\"Calling {func.__name__}({signature})\")\n",
    "        value = func(*args, **kwargs)\n",
    "        print(f\"{func.__name__!r} returned {value!r}\")           # 4\n",
    "        return value\n",
    "    return wrapper_debug"
   ]
  },
  {
   "cell_type": "code",
   "execution_count": 10,
   "id": "conscious-logging",
   "metadata": {
    "scrolled": true
   },
   "outputs": [
    {
     "name": "stdout",
     "output_type": "stream",
     "text": [
      "Calling factorial(0)\n",
      "'factorial' returned 1\n",
      "Calling factorial(1)\n",
      "'factorial' returned 1\n",
      "Calling factorial(2)\n",
      "'factorial' returned 2\n",
      "Calling factorial(3)\n",
      "'factorial' returned 6\n",
      "Calling factorial(4)\n",
      "'factorial' returned 24\n",
      "Calling factorial(5)\n",
      "'factorial' returned 120\n",
      "Calling factorial(6)\n",
      "'factorial' returned 720\n",
      "Calling factorial(7)\n",
      "'factorial' returned 5040\n",
      "Calling factorial(8)\n",
      "'factorial' returned 40320\n",
      "Calling factorial(9)\n",
      "'factorial' returned 362880\n",
      "Calling factorial(10)\n",
      "'factorial' returned 3628800\n",
      "Calling factorial(11)\n",
      "'factorial' returned 39916800\n",
      "Calling factorial(12)\n",
      "'factorial' returned 479001600\n",
      "Calling factorial(13)\n",
      "'factorial' returned 6227020800\n",
      "Calling factorial(14)\n",
      "'factorial' returned 87178291200\n",
      "Calling factorial(15)\n",
      "'factorial' returned 1307674368000\n",
      "Calling factorial(16)\n",
      "'factorial' returned 20922789888000\n",
      "Calling factorial(17)\n",
      "'factorial' returned 355687428096000\n"
     ]
    },
    {
     "data": {
      "text/plain": [
       "2.7182818284590455"
      ]
     },
     "execution_count": 10,
     "metadata": {},
     "output_type": "execute_result"
    }
   ],
   "source": [
    "import math\n",
    "\n",
    "# Apply a decorator to a standard library function\n",
    "math.factorial = debug(math.factorial)\n",
    "\n",
    "def approximate_e(terms=18):\n",
    "    return sum(1 / math.factorial(n) for n in range(terms))\n",
    "\n",
    "approximate_e()"
   ]
  },
  {
   "cell_type": "code",
   "execution_count": 11,
   "id": "found-charge",
   "metadata": {},
   "outputs": [
    {
     "name": "stdout",
     "output_type": "stream",
     "text": [
      "Calling factorial(0)\n",
      "'factorial' returned 1\n",
      "Calling factorial(1)\n",
      "'factorial' returned 1\n",
      "Calling factorial(2)\n",
      "'factorial' returned 2\n",
      "Calling factorial(3)\n",
      "'factorial' returned 6\n",
      "Calling factorial(4)\n",
      "'factorial' returned 24\n",
      "Calling factorial(5)\n",
      "'factorial' returned 120\n",
      "Calling factorial(6)\n",
      "'factorial' returned 720\n",
      "Calling factorial(7)\n",
      "'factorial' returned 5040\n",
      "Calling factorial(8)\n",
      "'factorial' returned 40320\n",
      "Calling factorial(9)\n",
      "'factorial' returned 362880\n",
      "Calling factorial(10)\n",
      "'factorial' returned 3628800\n",
      "Calling factorial(11)\n",
      "'factorial' returned 39916800\n",
      "Calling factorial(12)\n",
      "'factorial' returned 479001600\n",
      "Calling factorial(13)\n",
      "'factorial' returned 6227020800\n",
      "Calling factorial(14)\n",
      "'factorial' returned 87178291200\n",
      "Calling factorial(15)\n",
      "'factorial' returned 1307674368000\n",
      "Calling factorial(16)\n",
      "'factorial' returned 20922789888000\n",
      "Calling factorial(17)\n",
      "'factorial' returned 355687428096000\n",
      "Finished 'approximate_e' in 0.0006 secs\n"
     ]
    },
    {
     "data": {
      "text/plain": [
       "2.7182818284590455"
      ]
     },
     "execution_count": 11,
     "metadata": {},
     "output_type": "execute_result"
    }
   ],
   "source": [
    "@timer\n",
    "def approximate_e(terms=18):\n",
    "    return sum(1 / math.factorial(n) for n in range(terms))\n",
    "\n",
    "approximate_e()"
   ]
  },
  {
   "cell_type": "code",
   "execution_count": 12,
   "id": "confident-giant",
   "metadata": {},
   "outputs": [],
   "source": [
    "class Circle:\n",
    "    def __init__(self, radius):\n",
    "        self._radius = radius\n",
    "\n",
    "    @property\n",
    "    def radius(self):\n",
    "        \"\"\"Get value of radius\"\"\"\n",
    "        return self._radius\n",
    "\n",
    "    @radius.setter\n",
    "    def radius(self, value):\n",
    "        \"\"\"Set radius, raise error if negative\"\"\"\n",
    "        if value >= 0:\n",
    "            self._radius = value\n",
    "        else:\n",
    "            raise ValueError(\"Radius must be positive\")\n",
    "\n",
    "    @property\n",
    "    def area(self):\n",
    "        \"\"\"Calculate area inside circle\"\"\"\n",
    "        return self.pi() * self.radius**2\n",
    "\n",
    "    def cylinder_volume(self, height):\n",
    "        \"\"\"Calculate volume of cylinder with circle as base\"\"\"\n",
    "        return self.area * height\n",
    "\n",
    "    @classmethod\n",
    "    def unit_circle(cls):\n",
    "        \"\"\"Factory method creating a circle with radius 1\"\"\"\n",
    "        return cls(1)\n",
    "\n",
    "    @staticmethod\n",
    "    def pi():\n",
    "        \"\"\"Value of π, could use math.pi instead though\"\"\"\n",
    "        return 3.1415926535"
   ]
  },
  {
   "cell_type": "code",
   "execution_count": 16,
   "id": "reserved-bracket",
   "metadata": {},
   "outputs": [
    {
     "data": {
      "text/plain": [
       "5"
      ]
     },
     "execution_count": 16,
     "metadata": {},
     "output_type": "execute_result"
    }
   ],
   "source": [
    "c = Circle(5)\n",
    "c.radius"
   ]
  },
  {
   "cell_type": "code",
   "execution_count": 18,
   "id": "decreased-cheese",
   "metadata": {},
   "outputs": [
    {
     "data": {
      "text/plain": [
       "78.5398163375"
      ]
     },
     "execution_count": 18,
     "metadata": {},
     "output_type": "execute_result"
    }
   ],
   "source": [
    "c.area"
   ]
  },
  {
   "cell_type": "code",
   "execution_count": 19,
   "id": "fifth-shepherd",
   "metadata": {},
   "outputs": [
    {
     "data": {
      "text/plain": [
       "12.566370614"
      ]
     },
     "execution_count": 19,
     "metadata": {},
     "output_type": "execute_result"
    }
   ],
   "source": [
    "c.radius = 2\n",
    "c.area"
   ]
  },
  {
   "cell_type": "code",
   "execution_count": 20,
   "id": "russian-methodology",
   "metadata": {},
   "outputs": [
    {
     "ename": "AttributeError",
     "evalue": "can't set attribute",
     "output_type": "error",
     "traceback": [
      "\u001b[0;31m---------------------------------------------------------------------------\u001b[0m",
      "\u001b[0;31mAttributeError\u001b[0m                            Traceback (most recent call last)",
      "\u001b[0;32m<ipython-input-20-b28b205e5ef5>\u001b[0m in \u001b[0;36m<module>\u001b[0;34m\u001b[0m\n\u001b[0;32m----> 1\u001b[0;31m \u001b[0mc\u001b[0m\u001b[0;34m.\u001b[0m\u001b[0marea\u001b[0m \u001b[0;34m=\u001b[0m \u001b[0;36m100\u001b[0m\u001b[0;34m\u001b[0m\u001b[0;34m\u001b[0m\u001b[0m\n\u001b[0m",
      "\u001b[0;31mAttributeError\u001b[0m: can't set attribute"
     ]
    }
   ],
   "source": [
    "c.area = 100"
   ]
  },
  {
   "cell_type": "code",
   "execution_count": 22,
   "id": "negative-composite",
   "metadata": {},
   "outputs": [
    {
     "data": {
      "text/plain": [
       "50.265482456"
      ]
     },
     "execution_count": 22,
     "metadata": {},
     "output_type": "execute_result"
    }
   ],
   "source": [
    "c.cylinder_volume(height=4)"
   ]
  },
  {
   "cell_type": "code",
   "execution_count": 23,
   "id": "interesting-range",
   "metadata": {},
   "outputs": [
    {
     "ename": "ValueError",
     "evalue": "Radius must be positive",
     "output_type": "error",
     "traceback": [
      "\u001b[0;31m---------------------------------------------------------------------------\u001b[0m",
      "\u001b[0;31mValueError\u001b[0m                                Traceback (most recent call last)",
      "\u001b[0;32m<ipython-input-23-66094c8d5f50>\u001b[0m in \u001b[0;36m<module>\u001b[0;34m\u001b[0m\n\u001b[0;32m----> 1\u001b[0;31m \u001b[0mc\u001b[0m\u001b[0;34m.\u001b[0m\u001b[0mradius\u001b[0m \u001b[0;34m=\u001b[0m \u001b[0;34m-\u001b[0m\u001b[0;36m1\u001b[0m\u001b[0;34m\u001b[0m\u001b[0;34m\u001b[0m\u001b[0m\n\u001b[0m",
      "\u001b[0;32m<ipython-input-12-93a7943ab9df>\u001b[0m in \u001b[0;36mradius\u001b[0;34m(self, value)\u001b[0m\n\u001b[1;32m     14\u001b[0m             \u001b[0mself\u001b[0m\u001b[0;34m.\u001b[0m\u001b[0m_radius\u001b[0m \u001b[0;34m=\u001b[0m \u001b[0mvalue\u001b[0m\u001b[0;34m\u001b[0m\u001b[0;34m\u001b[0m\u001b[0m\n\u001b[1;32m     15\u001b[0m         \u001b[0;32melse\u001b[0m\u001b[0;34m:\u001b[0m\u001b[0;34m\u001b[0m\u001b[0;34m\u001b[0m\u001b[0m\n\u001b[0;32m---> 16\u001b[0;31m             \u001b[0;32mraise\u001b[0m \u001b[0mValueError\u001b[0m\u001b[0;34m(\u001b[0m\u001b[0;34m\"Radius must be positive\"\u001b[0m\u001b[0;34m)\u001b[0m\u001b[0;34m\u001b[0m\u001b[0;34m\u001b[0m\u001b[0m\n\u001b[0m\u001b[1;32m     17\u001b[0m \u001b[0;34m\u001b[0m\u001b[0m\n\u001b[1;32m     18\u001b[0m     \u001b[0;34m@\u001b[0m\u001b[0mproperty\u001b[0m\u001b[0;34m\u001b[0m\u001b[0;34m\u001b[0m\u001b[0m\n",
      "\u001b[0;31mValueError\u001b[0m: Radius must be positive"
     ]
    }
   ],
   "source": [
    "c.radius = -1"
   ]
  },
  {
   "cell_type": "code",
   "execution_count": 24,
   "id": "exceptional-banks",
   "metadata": {},
   "outputs": [
    {
     "data": {
      "text/plain": [
       "1"
      ]
     },
     "execution_count": 24,
     "metadata": {},
     "output_type": "execute_result"
    }
   ],
   "source": [
    "c = Circle.unit_circle()\n",
    "c.radius"
   ]
  },
  {
   "cell_type": "code",
   "execution_count": 25,
   "id": "vulnerable-porter",
   "metadata": {},
   "outputs": [
    {
     "data": {
      "text/plain": [
       "3.1415926535"
      ]
     },
     "execution_count": 25,
     "metadata": {},
     "output_type": "execute_result"
    }
   ],
   "source": [
    "c.pi()"
   ]
  },
  {
   "cell_type": "code",
   "execution_count": 26,
   "id": "adapted-italic",
   "metadata": {},
   "outputs": [
    {
     "data": {
      "text/plain": [
       "3.1415926535"
      ]
     },
     "execution_count": 26,
     "metadata": {},
     "output_type": "execute_result"
    }
   ],
   "source": [
    "Circle.pi()"
   ]
  },
  {
   "cell_type": "code",
   "execution_count": 28,
   "id": "other-discrimination",
   "metadata": {},
   "outputs": [],
   "source": [
    "def repeat(num_times):\n",
    "    def decorator_repeat(func):\n",
    "        @functools.wraps(func)\n",
    "        def wrapper_repeat(*args, **kwargs):\n",
    "            for _ in range(num_times):\n",
    "                value = func(*args, **kwargs)\n",
    "            return value\n",
    "        return wrapper_repeat\n",
    "    return decorator_repeat"
   ]
  },
  {
   "cell_type": "code",
   "execution_count": 29,
   "id": "pending-supplement",
   "metadata": {},
   "outputs": [
    {
     "name": "stdout",
     "output_type": "stream",
     "text": [
      "Hello Cat\n",
      "Hello Cat\n",
      "Hello Cat\n",
      "Hello Cat\n"
     ]
    }
   ],
   "source": [
    "@repeat(num_times=4)\n",
    "def greet(name):\n",
    "    print(f\"Hello {name}\")\n",
    "    \n",
    "greet('Cat')"
   ]
  },
  {
   "cell_type": "code",
   "execution_count": 30,
   "id": "naval-hello",
   "metadata": {},
   "outputs": [
    {
     "name": "stdout",
     "output_type": "stream",
     "text": [
      "Hello Cat\n",
      "Hello Cat\n",
      "Hello Cat\n",
      "Hello Cat\n",
      "Hello Cat\n",
      "Hello Cat\n",
      "Finished 'greet' in 0.0003 secs\n"
     ]
    }
   ],
   "source": [
    "@timer\n",
    "@repeat(num_times=6)\n",
    "def greet(name):\n",
    "    print(f\"Hello {name}\")\n",
    "    \n",
    "greet('Cat')"
   ]
  },
  {
   "cell_type": "code",
   "execution_count": 31,
   "id": "incomplete-manufacturer",
   "metadata": {},
   "outputs": [],
   "source": [
    "import functools\n",
    "\n",
    "def count_calls(func):\n",
    "    @functools.wraps(func)\n",
    "    def wrapper_count_calls(*args, **kwargs):\n",
    "        wrapper_count_calls.num_calls += 1\n",
    "        print(f\"Call {wrapper_count_calls.num_calls} of {func.__name__!r}\")\n",
    "        return func(*args, **kwargs)\n",
    "    wrapper_count_calls.num_calls = 0\n",
    "    return wrapper_count_calls"
   ]
  },
  {
   "cell_type": "code",
   "execution_count": 32,
   "id": "modular-petersburg",
   "metadata": {},
   "outputs": [
    {
     "name": "stdout",
     "output_type": "stream",
     "text": [
      "Call 1 of 'say_whee'\n",
      "Whee!\n"
     ]
    }
   ],
   "source": [
    "@count_calls\n",
    "def say_whee():\n",
    "    print(\"Whee!\")\n",
    "\n",
    "say_whee()"
   ]
  },
  {
   "cell_type": "code",
   "execution_count": 33,
   "id": "smooth-chile",
   "metadata": {},
   "outputs": [
    {
     "name": "stdout",
     "output_type": "stream",
     "text": [
      "Call 2 of 'say_whee'\n",
      "Whee!\n"
     ]
    }
   ],
   "source": [
    "say_whee()"
   ]
  },
  {
   "cell_type": "code",
   "execution_count": 34,
   "id": "medical-demonstration",
   "metadata": {},
   "outputs": [
    {
     "name": "stdout",
     "output_type": "stream",
     "text": [
      "Call 3 of 'say_whee'\n",
      "Whee!\n"
     ]
    }
   ],
   "source": [
    "say_whee()"
   ]
  },
  {
   "cell_type": "code",
   "execution_count": 35,
   "id": "standard-hammer",
   "metadata": {},
   "outputs": [
    {
     "data": {
      "text/plain": [
       "3"
      ]
     },
     "execution_count": 35,
     "metadata": {},
     "output_type": "execute_result"
    }
   ],
   "source": [
    "say_whee.num_calls"
   ]
  },
  {
   "cell_type": "code",
   "execution_count": 36,
   "id": "civil-advertising",
   "metadata": {},
   "outputs": [
    {
     "name": "stdout",
     "output_type": "stream",
     "text": [
      "Call 1 of 'say_whee'\n",
      "Whee!\n"
     ]
    }
   ],
   "source": [
    "import functools\n",
    "\n",
    "class CountCalls:\n",
    "    def __init__(self, func):\n",
    "        functools.update_wrapper(self, func)\n",
    "        self.func = func\n",
    "        self.num_calls = 0\n",
    "\n",
    "    def __call__(self, *args, **kwargs):\n",
    "        self.num_calls += 1\n",
    "        print(f\"Call {self.num_calls} of {self.func.__name__!r}\")\n",
    "        return self.func(*args, **kwargs)\n",
    "\n",
    "@CountCalls\n",
    "def say_whee():\n",
    "    print(\"Whee!\")\n",
    "\n",
    "say_whee()"
   ]
  },
  {
   "cell_type": "code",
   "execution_count": 37,
   "id": "consistent-making",
   "metadata": {},
   "outputs": [
    {
     "name": "stdout",
     "output_type": "stream",
     "text": [
      "Call 2 of 'say_whee'\n",
      "Whee!\n"
     ]
    }
   ],
   "source": [
    "say_whee()"
   ]
  },
  {
   "cell_type": "code",
   "execution_count": 38,
   "id": "distinguished-librarian",
   "metadata": {},
   "outputs": [
    {
     "name": "stdout",
     "output_type": "stream",
     "text": [
      "Call 3 of 'say_whee'\n",
      "Whee!\n"
     ]
    }
   ],
   "source": [
    "say_whee()"
   ]
  },
  {
   "cell_type": "code",
   "execution_count": 39,
   "id": "nearby-foster",
   "metadata": {},
   "outputs": [
    {
     "data": {
      "text/plain": [
       "3"
      ]
     },
     "execution_count": 39,
     "metadata": {},
     "output_type": "execute_result"
    }
   ],
   "source": [
    "say_whee.num_calls"
   ]
  },
  {
   "cell_type": "code",
   "execution_count": 40,
   "id": "accepted-victory",
   "metadata": {},
   "outputs": [],
   "source": [
    "import functools\n",
    "\n",
    "def singleton(cls):\n",
    "    \"\"\"Make a class a Singleton class (only one instance)\"\"\"\n",
    "    @functools.wraps(cls)\n",
    "    def wrapper_singleton(*args, **kwargs):\n",
    "        if not wrapper_singleton.instance:\n",
    "            wrapper_singleton.instance = cls(*args, **kwargs)\n",
    "        return wrapper_singleton.instance\n",
    "    wrapper_singleton.instance = None\n",
    "    return wrapper_singleton"
   ]
  },
  {
   "cell_type": "code",
   "execution_count": 41,
   "id": "adaptive-delivery",
   "metadata": {},
   "outputs": [],
   "source": [
    "@singleton\n",
    "class TheOne:\n",
    "    pass"
   ]
  },
  {
   "cell_type": "code",
   "execution_count": 42,
   "id": "pending-operation",
   "metadata": {},
   "outputs": [],
   "source": [
    "first_one = TheOne()\n",
    "another_one = TheOne()"
   ]
  },
  {
   "cell_type": "code",
   "execution_count": 43,
   "id": "premium-emergency",
   "metadata": {},
   "outputs": [
    {
     "name": "stdout",
     "output_type": "stream",
     "text": [
      "140309429285904\n",
      "140309429285904\n"
     ]
    }
   ],
   "source": [
    "print(id(first_one))\n",
    "print(id(another_one))"
   ]
  },
  {
   "cell_type": "code",
   "execution_count": 44,
   "id": "beneficial-grove",
   "metadata": {},
   "outputs": [
    {
     "data": {
      "text/plain": [
       "True"
      ]
     },
     "execution_count": 44,
     "metadata": {},
     "output_type": "execute_result"
    }
   ],
   "source": [
    "first_one is another_one"
   ]
  },
  {
   "cell_type": "code",
   "execution_count": 45,
   "id": "standing-pioneer",
   "metadata": {},
   "outputs": [],
   "source": [
    "class TheOne:\n",
    "    pass"
   ]
  },
  {
   "cell_type": "code",
   "execution_count": 46,
   "id": "experienced-assault",
   "metadata": {},
   "outputs": [],
   "source": [
    "first_one = TheOne()\n",
    "another_one = TheOne()"
   ]
  },
  {
   "cell_type": "code",
   "execution_count": 47,
   "id": "detailed-national",
   "metadata": {},
   "outputs": [
    {
     "name": "stdout",
     "output_type": "stream",
     "text": [
      "140309428913552\n",
      "140309428913488\n"
     ]
    }
   ],
   "source": [
    "print(id(first_one))\n",
    "print(id(another_one))"
   ]
  },
  {
   "cell_type": "code",
   "execution_count": 48,
   "id": "separate-insulation",
   "metadata": {},
   "outputs": [
    {
     "data": {
      "text/plain": [
       "False"
      ]
     },
     "execution_count": 48,
     "metadata": {},
     "output_type": "execute_result"
    }
   ],
   "source": [
    "first_one is another_one"
   ]
  },
  {
   "cell_type": "code",
   "execution_count": 49,
   "id": "widespread-wagner",
   "metadata": {},
   "outputs": [],
   "source": [
    "def set_unit(unit):\n",
    "    \"\"\"Register a unit on a function\"\"\"\n",
    "    def decorator_set_unit(func):\n",
    "        func.unit = unit\n",
    "        return func\n",
    "    return decorator_set_unit\n",
    "\n",
    "import math\n",
    "\n",
    "@set_unit(\"cm^3\")\n",
    "def volume(radius, height):\n",
    "    return math.pi * radius**2 * height"
   ]
  },
  {
   "cell_type": "code",
   "execution_count": 52,
   "id": "affecting-herald",
   "metadata": {},
   "outputs": [
    {
     "name": "stdout",
     "output_type": "stream",
     "text": [
      "141.3716694115407 cm^3\n"
     ]
    }
   ],
   "source": [
    "print(volume(3, 5), volume.unit)"
   ]
  },
  {
   "cell_type": "code",
   "execution_count": 53,
   "id": "contained-brazilian",
   "metadata": {},
   "outputs": [],
   "source": [
    "@set_unit(\"cm^2\")\n",
    "def area(height, width):\n",
    "    return height * width"
   ]
  },
  {
   "cell_type": "code",
   "execution_count": 54,
   "id": "pressed-cream",
   "metadata": {},
   "outputs": [
    {
     "name": "stdout",
     "output_type": "stream",
     "text": [
      "12 cm^2\n"
     ]
    }
   ],
   "source": [
    "print(area(3, 4), area.unit)"
   ]
  },
  {
   "cell_type": "code",
   "execution_count": 64,
   "id": "fundamental-credit",
   "metadata": {},
   "outputs": [
    {
     "name": "stdout",
     "output_type": "stream",
     "text": [
      "153.3716694115407 cm^2cm^3\n"
     ]
    }
   ],
   "source": [
    "print(area(3, 4) + volume(3, 5), area.unit + volume.unit)"
   ]
  },
  {
   "cell_type": "code",
   "execution_count": 55,
   "id": "wired-stephen",
   "metadata": {},
   "outputs": [],
   "source": [
    "def add_unit(a, b):\n",
    "    if a.unit == b.unit:\n",
    "        return a(2, 3) + b(3, 5)\n",
    "    else:\n",
    "        raise ValueError(\"Wrong units!\")"
   ]
  },
  {
   "cell_type": "code",
   "execution_count": 56,
   "id": "handy-porter",
   "metadata": {},
   "outputs": [
    {
     "data": {
      "text/plain": [
       "21"
      ]
     },
     "execution_count": 56,
     "metadata": {},
     "output_type": "execute_result"
    }
   ],
   "source": [
    "add_unit(area, area)"
   ]
  },
  {
   "cell_type": "code",
   "execution_count": 57,
   "id": "legal-result",
   "metadata": {},
   "outputs": [
    {
     "ename": "ValueError",
     "evalue": "Wrong units!",
     "output_type": "error",
     "traceback": [
      "\u001b[0;31m---------------------------------------------------------------------------\u001b[0m",
      "\u001b[0;31mValueError\u001b[0m                                Traceback (most recent call last)",
      "\u001b[0;32m<ipython-input-57-ad402e1c0f47>\u001b[0m in \u001b[0;36m<module>\u001b[0;34m\u001b[0m\n\u001b[0;32m----> 1\u001b[0;31m \u001b[0madd_unit\u001b[0m\u001b[0;34m(\u001b[0m\u001b[0marea\u001b[0m\u001b[0;34m,\u001b[0m \u001b[0mvolume\u001b[0m\u001b[0;34m)\u001b[0m\u001b[0;34m\u001b[0m\u001b[0;34m\u001b[0m\u001b[0m\n\u001b[0m",
      "\u001b[0;32m<ipython-input-55-4225f67523a8>\u001b[0m in \u001b[0;36madd_unit\u001b[0;34m(a, b)\u001b[0m\n\u001b[1;32m      3\u001b[0m         \u001b[0;32mreturn\u001b[0m \u001b[0ma\u001b[0m\u001b[0;34m(\u001b[0m\u001b[0;36m2\u001b[0m\u001b[0;34m,\u001b[0m \u001b[0;36m3\u001b[0m\u001b[0;34m)\u001b[0m \u001b[0;34m+\u001b[0m \u001b[0mb\u001b[0m\u001b[0;34m(\u001b[0m\u001b[0;36m3\u001b[0m\u001b[0;34m,\u001b[0m \u001b[0;36m5\u001b[0m\u001b[0;34m)\u001b[0m\u001b[0;34m\u001b[0m\u001b[0;34m\u001b[0m\u001b[0m\n\u001b[1;32m      4\u001b[0m     \u001b[0;32melse\u001b[0m\u001b[0;34m:\u001b[0m\u001b[0;34m\u001b[0m\u001b[0;34m\u001b[0m\u001b[0m\n\u001b[0;32m----> 5\u001b[0;31m         \u001b[0;32mraise\u001b[0m \u001b[0mValueError\u001b[0m\u001b[0;34m(\u001b[0m\u001b[0;34m\"Wrong units!\"\u001b[0m\u001b[0;34m)\u001b[0m\u001b[0;34m\u001b[0m\u001b[0;34m\u001b[0m\u001b[0m\n\u001b[0m",
      "\u001b[0;31mValueError\u001b[0m: Wrong units!"
     ]
    }
   ],
   "source": [
    "add_unit(area, volume)"
   ]
  },
  {
   "cell_type": "code",
   "execution_count": 58,
   "id": "impressed-marking",
   "metadata": {},
   "outputs": [],
   "source": [
    "def polynomial_creator(a, b, c):\n",
    "    def polynomial(x):\n",
    "        return a * x**2 + b * x + c\n",
    "    return polynomial"
   ]
  },
  {
   "cell_type": "code",
   "execution_count": 59,
   "id": "phantom-capitol",
   "metadata": {},
   "outputs": [
    {
     "name": "stdout",
     "output_type": "stream",
     "text": [
      "Arg: -2, p1(Arg): 1, p2(Arg): -7\n",
      "Arg: -1, p1(Arg): -2, p2(Arg): -2\n",
      "Arg: 0, p1(Arg): -1, p2(Arg): 1\n",
      "Arg: 1, p1(Arg): 4, p2(Arg): 2\n"
     ]
    }
   ],
   "source": [
    "p1 = polynomial_creator(2, 3, -1)\n",
    "p2 = polynomial_creator(-1, 2, 1)\n",
    "\n",
    "for x in range(-2, 2, 1):\n",
    "    print(f\"Arg: {x}, p1(Arg): {p1(x)}, p2(Arg): {p2(x)}\")"
   ]
  },
  {
   "cell_type": "code",
   "execution_count": 60,
   "id": "suitable-onion",
   "metadata": {},
   "outputs": [
    {
     "name": "stdout",
     "output_type": "stream",
     "text": [
      "<function polynomial_creator at 0x7f9c56522a70>\n"
     ]
    }
   ],
   "source": [
    "print(polynomial_creator)"
   ]
  },
  {
   "cell_type": "code",
   "execution_count": 61,
   "id": "champion-river",
   "metadata": {},
   "outputs": [
    {
     "name": "stdout",
     "output_type": "stream",
     "text": [
      "<function polynomial_creator.<locals>.polynomial at 0x7f9c55acd200>\n"
     ]
    }
   ],
   "source": [
    "print(p1)"
   ]
  },
  {
   "cell_type": "code",
   "execution_count": 75,
   "id": "criminal-video",
   "metadata": {},
   "outputs": [],
   "source": [
    "def polynomial_creator(*coefficients):\n",
    "    \"\"\" coefficients are in the form a_n, ... a_1, a_0 \n",
    "    \"\"\"\n",
    "    def polynomial(x):\n",
    "        res = 0\n",
    "        for index, coeff in enumerate(coefficients[::-1]):\n",
    "            res += coeff * x** index\n",
    "        return res\n",
    "    return polynomial"
   ]
  },
  {
   "cell_type": "code",
   "execution_count": 76,
   "id": "willing-healthcare",
   "metadata": {},
   "outputs": [
    {
     "name": "stdout",
     "output_type": "stream",
     "text": [
      "-2 4 0 -56 -7\n",
      "-1 4 2 -9 -2\n",
      "0 4 4 2 1\n",
      "1 4 6 13 2\n"
     ]
    }
   ],
   "source": [
    "p1 = polynomial_creator(4)\n",
    "p2 = polynomial_creator(2, 4)\n",
    "p3 = polynomial_creator(1, 8, -1, 3, 2)\n",
    "p4  = polynomial_creator(-1, 2, 1)\n",
    "\n",
    "for x in range(-2, 2, 1):\n",
    "    print(x, p1(x), p2(x), p3(x), p4(x))"
   ]
  }
 ],
 "metadata": {
  "kernelspec": {
   "display_name": "Python 3",
   "language": "python",
   "name": "python3"
  },
  "language_info": {
   "codemirror_mode": {
    "name": "ipython",
    "version": 3
   },
   "file_extension": ".py",
   "mimetype": "text/x-python",
   "name": "python",
   "nbconvert_exporter": "python",
   "pygments_lexer": "ipython3",
   "version": "3.7.4"
  }
 },
 "nbformat": 4,
 "nbformat_minor": 5
}
