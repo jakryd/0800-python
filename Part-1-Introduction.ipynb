{
 "cells": [
  {
   "cell_type": "markdown",
   "id": "missing-antarctica",
   "metadata": {
    "colab_type": "text",
    "id": "dzNng6vCL9eP"
   },
   "source": [
    "# Introduction\n",
    "Jakub Rydzewski <<jr@fizyka.umk.pl>>\n",
    "***"
   ]
  },
  {
   "cell_type": "markdown",
   "id": "controlling-equity",
   "metadata": {
    "colab_type": "text",
    "id": "0vJLt3JRL9eR"
   },
   "source": [
    "This notebook is based on the following sources:\n",
    "\n",
    "1. Stanford course: http://cs231n.stanford.edu/.\n",
    "2. `scipy` lectures: http://scipy-lectures.org/.\n",
    "3. `scikit-learn` examples: https://scikit-learn.org/stable/auto_examples/index.html.\n",
    "4. `matplotlib` examples: https://matplotlib.org/stable/gallery/index.html."
   ]
  },
  {
   "cell_type": "markdown",
   "id": "confident-plane",
   "metadata": {},
   "source": [
    "Python comes in many flavors, and there are many ways to install it. However, we recommend to install a scientific-computing distribution, that comes readily with optimized versions of scientific modules.\n",
    "\n",
    "You should install Python 3. Python 2.7 is end of life, and will not be maintained past January 1, 2020.\n",
    "\n",
    "Under Linux: If you have a recent distribution, most of the tools are probably packaged, and you can use your package manager.\n",
    "\n",
    "However, using the Anaconda distribution is strongly suggested as it comes with most packages needed for this course. You can install it following instructions at https://docs.anaconda.com/anaconda/install/linux/ or executing the below:\n",
    "\n",
    "```\n",
    "wget https://repo.anaconda.com/archive/Anaconda3-2020.11-Linux-x86_64.sh\n",
    "bash Anaconda3-2020.11-Linux-x86_64.sh\n",
    "echo 'export PATH=$HOME/anaconda3/bin:$PATH' >> $HOME/.bashrc\n",
    "```"
   ]
  },
  {
   "cell_type": "markdown",
   "id": "dried-minority",
   "metadata": {},
   "source": [
    "We recommend an interactive work with the IPython console, or its offspring, the Jupyter notebook. They are handy to explore and understand algorithms."
   ]
  },
  {
   "cell_type": "markdown",
   "id": "damaged-reflection",
   "metadata": {
    "colab_type": "text",
    "id": "nxvEkGXPM3Xh"
   },
   "source": [
    "### A Brief Note on Python Versions\n",
    "\n",
    "As of Janurary 1, 2020, Python has [officially dropped support](https://www.python.org/doc/sunset-python-2/) for `python2`. **We'll be using Python 3.7 for this iteration of the course.**\n",
    "\n",
    "Check that you have the right version:"
   ]
  },
  {
   "cell_type": "code",
   "execution_count": 1,
   "id": "precious-processor",
   "metadata": {
    "colab": {
     "base_uri": "https://localhost:8080/",
     "height": 34
    },
    "colab_type": "code",
    "id": "1L4Am0QATgOc",
    "outputId": "bb5ee3ac-8683-44ab-e599-a2077510f327",
    "scrolled": true
   },
   "outputs": [
    {
     "name": "stdout",
     "output_type": "stream",
     "text": [
      "Python 3.7.4\n"
     ]
    }
   ],
   "source": [
    "!python --version"
   ]
  },
  {
   "cell_type": "markdown",
   "id": "durable-lambda",
   "metadata": {},
   "source": [
    "### What is a Jupyter Notebook?"
   ]
  },
  {
   "cell_type": "markdown",
   "id": "illegal-doubt",
   "metadata": {},
   "source": [
    "A Jupyter notebook is made up of a number of cells. Each cell can contain Python code. There are two main types of cells: `Code` cells and `Markdown` cells. This particular cell is a `Markdown` cell. You can execute a particular cell by double clicking on it (the highlight color will switch from blue to green) and pressing `Shift-Enter`. When you do so, if the cell is a `Code` cell, the code in the cell will run, and the output of the cell will be displayed beneath the cell, and if the cell is a `Markdown` cell, the markdown text will get rendered beneath the cell."
   ]
  },
  {
   "cell_type": "markdown",
   "id": "favorite-lover",
   "metadata": {},
   "source": [
    "The cell below is a `Code` cell. Go ahead and click it, then execute it."
   ]
  },
  {
   "cell_type": "code",
   "execution_count": 2,
   "id": "developmental-evidence",
   "metadata": {},
   "outputs": [
    {
     "name": "stdout",
     "output_type": "stream",
     "text": [
      "1\n"
     ]
    }
   ],
   "source": [
    "x = 1\n",
    "print(x)"
   ]
  },
  {
   "cell_type": "markdown",
   "id": "periodic-cigarette",
   "metadata": {},
   "source": [
    "Global variables are shared between cells. Try executing the cell below:"
   ]
  },
  {
   "cell_type": "code",
   "execution_count": 3,
   "id": "proper-catch",
   "metadata": {},
   "outputs": [
    {
     "name": "stdout",
     "output_type": "stream",
     "text": [
      "2\n"
     ]
    }
   ],
   "source": [
    "y = 2 * x\n",
    "print(y)"
   ]
  },
  {
   "cell_type": "markdown",
   "id": "previous-settle",
   "metadata": {},
   "source": [
    "### Keyboard Shortcuts\n",
    "\n",
    "There are a few keyboard shortcuts you should be aware of to make your notebook experience more pleasant. To escape editing of a cell, press `esc`. Escaping a `Markdown` cell won't render it, so make sure to execute it if you wish to render the markdown. Notice how the highlight color switches back to blue when you have escaped a cell.\n",
    "\n",
    "You can navigate between cells by pressing your arrow keys. Executing a cell automatically shifts the cell cursor down 1 cell if one exists, or creates a new cell below the current one if none exist.\n",
    "\n",
    "* To place a cell below the current one, press `b`.\n",
    "* To place a cell above the current one, press `a`.\n",
    "* To delete a cell, press `dd`.\n",
    "* To convert a cell to `Markdown` press `m`. Note you have to be in `esc` mode.\n",
    "* To convert it back to `Code` press `y`. Note you have to be in `esc` mode.\n",
    "\n",
    "Get familiar with these keyboard shortcuts, they really help!"
   ]
  },
  {
   "cell_type": "markdown",
   "id": "expressed-pipeline",
   "metadata": {},
   "source": [
    "You can restart a notebook and clear all cells by clicking `Kernel -> Restart & Clear Output`. If you don't want to clear cell outputs, just hit `Kernel -> Restart`.\n",
    "\n",
    "By convention, Jupyter notebooks are expected to be run from top to bottom. Failing to execute some cells or executing cells out of order can result in errors. After restarting the notebook, try running the `y = 2 * x` cell 2 cells above and observe what happens."
   ]
  },
  {
   "cell_type": "markdown",
   "id": "terminal-latitude",
   "metadata": {},
   "source": [
    "After you have modified a Jupyter notebook for one of the assignments by modifying or executing some of its cells, remember to save your changes! You can save with the `Command/Control + s` shortcut or by clicking `File -> Save and Checkpoint`."
   ]
  },
  {
   "cell_type": "markdown",
   "id": "wrong-youth",
   "metadata": {},
   "source": [
    "This has only been a brief introduction to Jupyter notebooks, but it should be enough to get you up and running on the assignments for this course."
   ]
  },
  {
   "cell_type": "markdown",
   "id": "pleased-pickup",
   "metadata": {},
   "source": [
    "A notebook is just a JSON file. You can open one and see this:\n",
    "\n",
    "```\n",
    "{\n",
    "   \"cell_type\": \"markdown\",\n",
    "   \"metadata\": {},\n",
    "   \"source\": [\"...\"]\n",
    "  },\n",
    "```\n",
    "\n",
    "Jupyter will save checkpoints whenever you save. These can be accessed at file->revert-to-checkpoint. Pay close attention to the top messages to make sure you are saving your notebook. In an emergency, like your notebook failed to save, go to file->download as->jupyter notebook and it will appear in your downloads folder."
   ]
  },
  {
   "cell_type": "markdown",
   "id": "violent-passion",
   "metadata": {
    "colab_type": "text",
    "id": "qVrTo-LhL9eS"
   },
   "source": [
    "### Python Tutorial"
   ]
  },
  {
   "cell_type": "markdown",
   "id": "known-mediterranean",
   "metadata": {
    "colab_type": "text",
    "id": "9t1gKp9PL9eV"
   },
   "source": [
    "Python is a great general-purpose programming language on its own, but with the help of a few popular libraries (numpy, scipy, matplotlib) it becomes a powerful environment for scientific computing.\n",
    "\n",
    "We expect that many of you will have some experience with Python and numpy; for the rest of you, this section will serve as a quick crash course both on the Python programming language and on the use of Python for scientific computing."
   ]
  },
  {
   "cell_type": "markdown",
   "id": "minimal-license",
   "metadata": {
    "colab_type": "text",
    "id": "U1PvreR9L9eW"
   },
   "source": [
    "In this tutorial, we will cover:\n",
    "\n",
    "* Basic Python: Basic data types (Containers, Lists, Dictionaries, Sets, Tuples), Functions, Classes\n",
    "* Numpy: Arrays, Array indexing, Datatypes, Array math, Broadcasting\n",
    "* Matplotlib: Plotting, Subplots, Images\n",
    "* IPython: Creating notebooks, Typical workflows"
   ]
  },
  {
   "cell_type": "markdown",
   "id": "macro-latino",
   "metadata": {
    "colab_type": "text",
    "id": "JAFKYgrpL9eY"
   },
   "source": [
    "### Basics of Python"
   ]
  },
  {
   "cell_type": "markdown",
   "id": "heard-abortion",
   "metadata": {
    "colab_type": "text",
    "id": "RbFS6tdgL9ea"
   },
   "source": [
    "Python is a high-level, dynamically typed multiparadigm programming language. Python code is often said to be almost like pseudocode, since it allows you to express very powerful ideas in very few lines of code while being very readable. As an example, here is an implementation of the classic quicksort algorithm in Python:"
   ]
  },
  {
   "cell_type": "code",
   "execution_count": 4,
   "id": "standing-triumph",
   "metadata": {
    "colab": {
     "base_uri": "https://localhost:8080/",
     "height": 34
    },
    "colab_type": "code",
    "id": "cYb0pjh1L9eb",
    "outputId": "9a8e37de-1dc1-4092-faee-06ad4ff2d73a"
   },
   "outputs": [
    {
     "name": "stdout",
     "output_type": "stream",
     "text": [
      "[1, 1, 2, 3, 6, 8, 10]\n"
     ]
    }
   ],
   "source": [
    "def quicksort(arr):\n",
    "    if len(arr) <= 1:\n",
    "        return arr\n",
    "    pivot = arr[len(arr) // 2]\n",
    "    left = [x for x in arr if x < pivot]\n",
    "    middle = [x for x in arr if x == pivot]\n",
    "    right = [x for x in arr if x > pivot]\n",
    "    return quicksort(left) + middle + quicksort(right)\n",
    "\n",
    "print(quicksort([3,6,8,10,1,2,1]))"
   ]
  },
  {
   "cell_type": "markdown",
   "id": "driven-helen",
   "metadata": {},
   "source": [
    "Another example -- calculating the Fibbonacci sequence:"
   ]
  },
  {
   "cell_type": "code",
   "execution_count": 5,
   "id": "reasonable-restoration",
   "metadata": {
    "scrolled": true
   },
   "outputs": [
    {
     "name": "stdout",
     "output_type": "stream",
     "text": [
      "21\n"
     ]
    }
   ],
   "source": [
    "def fibbonacci(n):\n",
    "    if n == 0 or n == 1: return 1\n",
    "    else: return n + fibbonacci(n-1)\n",
    "    \n",
    "print(fibbonacci(6))"
   ]
  },
  {
   "cell_type": "markdown",
   "id": "artistic-session",
   "metadata": {},
   "source": [
    "### Packages"
   ]
  },
  {
   "cell_type": "markdown",
   "id": "clinical-cattle",
   "metadata": {},
   "source": [
    "You can import any package like this:"
   ]
  },
  {
   "cell_type": "code",
   "execution_count": 93,
   "id": "cloudy-hartford",
   "metadata": {},
   "outputs": [],
   "source": [
    "import scipy"
   ]
  },
  {
   "cell_type": "markdown",
   "id": "capable-formation",
   "metadata": {},
   "source": [
    "Which imports a `.pyc` file to our code:"
   ]
  },
  {
   "cell_type": "code",
   "execution_count": 94,
   "id": "developing-money",
   "metadata": {},
   "outputs": [
    {
     "name": "stdout",
     "output_type": "stream",
     "text": [
      "/home/jr/anaconda3/lib/python3.7/site-packages/scipy/__init__.py\n"
     ]
    }
   ],
   "source": [
    "print(scipy.__file__)"
   ]
  },
  {
   "cell_type": "markdown",
   "id": "hidden-detail",
   "metadata": {},
   "source": [
    "You can check package's version:"
   ]
  },
  {
   "cell_type": "code",
   "execution_count": 96,
   "id": "floral-making",
   "metadata": {},
   "outputs": [
    {
     "name": "stdout",
     "output_type": "stream",
     "text": [
      "1.3.1\n"
     ]
    }
   ],
   "source": [
    "import scipy.version\n",
    "print(scipy.version.version)"
   ]
  },
  {
   "cell_type": "markdown",
   "id": "latest-parameter",
   "metadata": {},
   "source": [
    "One way to shorten nested modules:"
   ]
  },
  {
   "cell_type": "code",
   "execution_count": 98,
   "id": "dietary-startup",
   "metadata": {},
   "outputs": [],
   "source": [
    "import scipy.ndimage.morphology\n",
    "\n",
    "from scipy.ndimage import morphology"
   ]
  },
  {
   "cell_type": "markdown",
   "id": "honest-regard",
   "metadata": {},
   "source": [
    "Which allows to write `morphology.x` instead of `scipy.ndimage.morphology.x`."
   ]
  },
  {
   "cell_type": "markdown",
   "id": "operating-monitor",
   "metadata": {},
   "source": [
    "You can rename an imported package:"
   ]
  },
  {
   "cell_type": "code",
   "execution_count": 17,
   "id": "sized-unknown",
   "metadata": {},
   "outputs": [
    {
     "name": "stdout",
     "output_type": "stream",
     "text": [
      "<ufunc 'absolute'>\n"
     ]
    }
   ],
   "source": [
    "import numpy as np\n",
    "print(np.abs)"
   ]
  },
  {
   "cell_type": "code",
   "execution_count": 18,
   "id": "miniature-expert",
   "metadata": {},
   "outputs": [
    {
     "ename": "NameError",
     "evalue": "name 'numpy' is not defined",
     "output_type": "error",
     "traceback": [
      "\u001b[0;31m---------------------------------------------------------------------------\u001b[0m",
      "\u001b[0;31mNameError\u001b[0m                                 Traceback (most recent call last)",
      "\u001b[0;32m<ipython-input-18-f3aec4265974>\u001b[0m in \u001b[0;36m<module>\u001b[0;34m\u001b[0m\n\u001b[0;32m----> 1\u001b[0;31m \u001b[0mprint\u001b[0m\u001b[0;34m(\u001b[0m\u001b[0mnumpy\u001b[0m\u001b[0;34m.\u001b[0m\u001b[0mabs\u001b[0m\u001b[0;34m)\u001b[0m\u001b[0;34m\u001b[0m\u001b[0;34m\u001b[0m\u001b[0m\n\u001b[0m",
      "\u001b[0;31mNameError\u001b[0m: name 'numpy' is not defined"
     ]
    }
   ],
   "source": [
    "print(numpy.abs)"
   ]
  }
 ],
 "metadata": {
  "kernelspec": {
   "display_name": "Python 3",
   "language": "python",
   "name": "python3"
  },
  "language_info": {
   "codemirror_mode": {
    "name": "ipython",
    "version": 3
   },
   "file_extension": ".py",
   "mimetype": "text/x-python",
   "name": "python",
   "nbconvert_exporter": "python",
   "pygments_lexer": "ipython3",
   "version": "3.7.4"
  }
 },
 "nbformat": 4,
 "nbformat_minor": 5
}
