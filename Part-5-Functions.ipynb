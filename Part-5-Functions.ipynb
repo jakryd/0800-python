{
 "cells": [
  {
   "cell_type": "markdown",
   "id": "hawaiian-savannah",
   "metadata": {
    "colab_type": "text",
    "id": "AXA4jrEOL9hM"
   },
   "source": [
    "### Functions"
   ]
  },
  {
   "cell_type": "markdown",
   "id": "conscious-hours",
   "metadata": {},
   "source": [
    "> A function is a block of code which only runs when it is called. You can pass data, known as parameters, into a function. A function can return data as a result."
   ]
  },
  {
   "cell_type": "code",
   "execution_count": 15,
   "id": "interstate-franchise",
   "metadata": {},
   "outputs": [
    {
     "name": "stdout",
     "output_type": "stream",
     "text": [
      "Your first function!\n"
     ]
    }
   ],
   "source": [
    "def first_func():\n",
    "    print('Your first function!')\n",
    "    \n",
    "first_func()"
   ]
  },
  {
   "cell_type": "markdown",
   "id": "popular-cleanup",
   "metadata": {},
   "source": [
    "#### Simple functions"
   ]
  },
  {
   "cell_type": "markdown",
   "id": "atlantic-control",
   "metadata": {
    "colab_type": "text",
    "id": "WaRms-QfL9hN"
   },
   "source": [
    "Python functions are defined using the `def` keyword. For example:"
   ]
  },
  {
   "cell_type": "code",
   "execution_count": 39,
   "id": "difficult-beginning",
   "metadata": {
    "colab": {
     "base_uri": "https://localhost:8080/",
     "height": 69
    },
    "colab_type": "code",
    "id": "kiMDUr58L9hN",
    "outputId": "9f53bf9a-7b2a-4c51-9def-398e4677cd6c"
   },
   "outputs": [
    {
     "name": "stdout",
     "output_type": "stream",
     "text": [
      "negative\n",
      "zero\n",
      "positive\n"
     ]
    }
   ],
   "source": [
    "def sign(x):\n",
    "    if x > 0:\n",
    "        return 'positive'\n",
    "    elif x < 0:\n",
    "        return 'negative'\n",
    "    else:\n",
    "        return 'zero'\n",
    "\n",
    "for x in [-1, 0, 1]:\n",
    "    print(sign(x))"
   ]
  },
  {
   "cell_type": "markdown",
   "id": "portuguese-living",
   "metadata": {},
   "source": [
    "#### Optional arguments"
   ]
  },
  {
   "cell_type": "markdown",
   "id": "afraid-mentor",
   "metadata": {
    "colab_type": "text",
    "id": "U-QJFt8TL9hR"
   },
   "source": [
    "We will often define functions to take optional keyword arguments, like this:"
   ]
  },
  {
   "cell_type": "code",
   "execution_count": 40,
   "id": "dying-release",
   "metadata": {
    "colab": {
     "base_uri": "https://localhost:8080/",
     "height": 52
    },
    "colab_type": "code",
    "id": "PfsZ3DazL9hR",
    "outputId": "6e6af832-67d8-4d8c-949b-335927684ae3"
   },
   "outputs": [
    {
     "name": "stdout",
     "output_type": "stream",
     "text": [
      "Hello, Bob!\n",
      "HELLO, FRED\n"
     ]
    }
   ],
   "source": [
    "def hello(name, loud=False):\n",
    "    if loud:\n",
    "        print('HELLO, {}'.format(name.upper()))\n",
    "    else:\n",
    "        print('Hello, {}!'.format(name))\n",
    "\n",
    "hello('Bob')\n",
    "hello('Fred', loud=True)"
   ]
  },
  {
   "cell_type": "markdown",
   "id": "frozen-olive",
   "metadata": {},
   "source": [
    "####  `return` statement"
   ]
  },
  {
   "cell_type": "markdown",
   "id": "realistic-gardening",
   "metadata": {},
   "source": [
    "By default (if not return explicitly), functions return `None`.\n",
    "\n",
    "Note the syntax to define a function:\n",
    "\n",
    "> the `def` keyword is followed by the function’s name, then the arguments of the function are given between parentheses followed by a colon, the function body and return object for optionally returning values."
   ]
  },
  {
   "cell_type": "markdown",
   "id": "connected-filename",
   "metadata": {},
   "source": [
    "`return` can be used to return several things:"
   ]
  },
  {
   "cell_type": "code",
   "execution_count": 16,
   "id": "vocational-hydrogen",
   "metadata": {},
   "outputs": [
    {
     "name": "stdout",
     "output_type": "stream",
     "text": [
      "(1, 4, 9, 16)\n"
     ]
    }
   ],
   "source": [
    "def return_values(arg_list=[1, 2, 3, 4]):\n",
    "    a, b, c, d = [arg ** 2 for arg in arg_list]\n",
    "    return a, b, c, d\n",
    "\n",
    "print(return_values())"
   ]
  },
  {
   "cell_type": "markdown",
   "id": "romance-great",
   "metadata": {},
   "source": [
    "**Examples**"
   ]
  },
  {
   "cell_type": "markdown",
   "id": "valued-memorial",
   "metadata": {},
   "source": [
    "Example of basic Python slicing (note the function description):"
   ]
  },
  {
   "cell_type": "code",
   "execution_count": 11,
   "id": "lyric-collapse",
   "metadata": {},
   "outputs": [],
   "source": [
    "def slicer(seq, start=None, stop=None, step=None):\n",
    "    \"\"\"Implement basic python slicing.\"\"\"\n",
    "    return seq[start:stop:step]"
   ]
  },
  {
   "cell_type": "markdown",
   "id": "through-carpet",
   "metadata": {},
   "source": [
    "Define a list:"
   ]
  },
  {
   "cell_type": "code",
   "execution_count": 50,
   "id": "juvenile-century",
   "metadata": {},
   "outputs": [
    {
     "name": "stdout",
     "output_type": "stream",
     "text": [
      "Our list: ['one', 'fish,', 'two', 'fish,', 'red', 'fish,', 'blue', 'fish']\n"
     ]
    }
   ],
   "source": [
    "rhyme = 'one fish, two fish, red fish, blue fish'.split()\n",
    "print('Our list:', rhyme)"
   ]
  },
  {
   "cell_type": "markdown",
   "id": "aquatic-violation",
   "metadata": {},
   "source": [
    "Test `slicer` on the defined list:"
   ]
  },
  {
   "cell_type": "markdown",
   "id": "featured-amendment",
   "metadata": {},
   "source": [
    "`slicer` takes at least one argument (list), the rest is optional:"
   ]
  },
  {
   "cell_type": "code",
   "execution_count": 52,
   "id": "reverse-rehabilitation",
   "metadata": {},
   "outputs": [
    {
     "data": {
      "text/plain": [
       "['one', 'fish,', 'two', 'fish,', 'red', 'fish,', 'blue', 'fish']"
      ]
     },
     "execution_count": 52,
     "metadata": {},
     "output_type": "execute_result"
    }
   ],
   "source": [
    "slicer(rhyme)"
   ]
  },
  {
   "cell_type": "code",
   "execution_count": 53,
   "id": "adult-double",
   "metadata": {},
   "outputs": [
    {
     "data": {
      "text/plain": [
       "['one', 'two', 'red', 'blue']"
      ]
     },
     "execution_count": 53,
     "metadata": {},
     "output_type": "execute_result"
    }
   ],
   "source": [
    "slicer(rhyme, step=2)"
   ]
  },
  {
   "cell_type": "code",
   "execution_count": 54,
   "id": "formed-lover",
   "metadata": {},
   "outputs": [
    {
     "data": {
      "text/plain": [
       "['fish,', 'fish,', 'fish,', 'fish']"
      ]
     },
     "execution_count": 54,
     "metadata": {},
     "output_type": "execute_result"
    }
   ],
   "source": [
    "slicer(rhyme, 1, step=2)"
   ]
  },
  {
   "cell_type": "code",
   "execution_count": 55,
   "id": "challenging-australian",
   "metadata": {},
   "outputs": [
    {
     "data": {
      "text/plain": [
       "['fish,', 'fish,']"
      ]
     },
     "execution_count": 55,
     "metadata": {},
     "output_type": "execute_result"
    }
   ],
   "source": [
    "slicer(rhyme, start=1, stop=4, step=2)"
   ]
  },
  {
   "cell_type": "markdown",
   "id": "rising-collective",
   "metadata": {},
   "source": [
    "#### Variable number of parameters"
   ]
  },
  {
   "cell_type": "markdown",
   "id": "oriental-insulation",
   "metadata": {},
   "source": [
    "You can implement a function that takes a variable number of parameters:"
   ]
  },
  {
   "cell_type": "code",
   "execution_count": 44,
   "id": "healthy-disposal",
   "metadata": {},
   "outputs": [],
   "source": [
    "def variable_args(*args, **kwargs):\n",
    "    print('args is', args)\n",
    "    print('kwargs is', kwargs)"
   ]
  },
  {
   "cell_type": "markdown",
   "id": "deluxe-destruction",
   "metadata": {},
   "source": [
    "Let's test it:"
   ]
  },
  {
   "cell_type": "code",
   "execution_count": 45,
   "id": "gentle-caution",
   "metadata": {},
   "outputs": [
    {
     "name": "stdout",
     "output_type": "stream",
     "text": [
      "args is ('one', 'two')\n",
      "kwargs is {'x': 1, 'y': 2, 'z': 3}\n"
     ]
    }
   ],
   "source": [
    "variable_args('one', 'two', x=1, y=2, z=3)"
   ]
  },
  {
   "cell_type": "code",
   "execution_count": 58,
   "id": "structural-coupon",
   "metadata": {},
   "outputs": [
    {
     "name": "stdout",
     "output_type": "stream",
     "text": [
      "args is ('one', 'two')\n",
      "kwargs is {'x': 1, 'y': 2, 'z': 3, 'mlem': 100}\n"
     ]
    }
   ],
   "source": [
    "variable_args('one', 'two', x=1, y=2, z=3, mlem=100)"
   ]
  },
  {
   "cell_type": "markdown",
   "id": "inclusive-letters",
   "metadata": {},
   "source": [
    "We can see that `*args` is a tuple of arguments and `**kwargs` is a dictionary that contains the names of arguments and their values."
   ]
  },
  {
   "cell_type": "markdown",
   "id": "crucial-cyprus",
   "metadata": {},
   "source": [
    "Write a function that displays the n first terms of the Fibonacci sequence, defined by:\n",
    "\n",
    "$\\left\\{ \\begin{array}{ll} U_{0} = 0 \\\\ U_{1} = 1 \\\\ U_{n+2} = U_{n+1} + U_{n} \\end{array} \\right.$\n"
   ]
  },
  {
   "cell_type": "code",
   "execution_count": 91,
   "id": "handed-syndicate",
   "metadata": {},
   "outputs": [],
   "source": [
    "def fib(n):\n",
    "    f_new = 1; f_mid = 1; f_old = 1\n",
    "    print(1)\n",
    "    print(1)\n",
    "    for i in range(n):\n",
    "        f_new = f_old + f_mid\n",
    "        print(f_new)\n",
    "        f_old = f_mid\n",
    "        f_mid = f_new"
   ]
  },
  {
   "cell_type": "code",
   "execution_count": 92,
   "id": "cathedral-bristol",
   "metadata": {},
   "outputs": [
    {
     "name": "stdout",
     "output_type": "stream",
     "text": [
      "1\n",
      "1\n",
      "2\n",
      "3\n",
      "5\n",
      "8\n",
      "13\n",
      "21\n"
     ]
    }
   ],
   "source": [
    "fib(6)"
   ]
  }
 ],
 "metadata": {
  "kernelspec": {
   "display_name": "Python 3",
   "language": "python",
   "name": "python3"
  },
  "language_info": {
   "codemirror_mode": {
    "name": "ipython",
    "version": 3
   },
   "file_extension": ".py",
   "mimetype": "text/x-python",
   "name": "python",
   "nbconvert_exporter": "python",
   "pygments_lexer": "ipython3",
   "version": "3.7.4"
  }
 },
 "nbformat": 4,
 "nbformat_minor": 5
}
