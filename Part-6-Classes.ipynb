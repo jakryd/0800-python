{
 "cells": [
  {
   "cell_type": "markdown",
   "id": "ordinary-comedy",
   "metadata": {
    "colab_type": "text",
    "id": "ObA9PRtQL9hT"
   },
   "source": [
    "### Classes"
   ]
  },
  {
   "cell_type": "markdown",
   "id": "operational-remedy",
   "metadata": {},
   "source": [
    "> A Python class defines a way of organizing code into containers of data, and functions that transform the data in some way. Once a class is instantiated in code, it becomes an object (and is usually assigned to a variable)."
   ]
  },
  {
   "cell_type": "markdown",
   "id": "regular-cartoon",
   "metadata": {
    "colab_type": "text",
    "id": "hAzL_lTkL9hU"
   },
   "source": [
    "The syntax for defining classes in Python is straightforward:"
   ]
  },
  {
   "cell_type": "code",
   "execution_count": 46,
   "id": "unusual-deadline",
   "metadata": {
    "colab": {
     "base_uri": "https://localhost:8080/",
     "height": 52
    },
    "colab_type": "code",
    "id": "RWdbaGigL9hU",
    "outputId": "4f6615c5-75a7-4ce4-8ea1-1e7f5e4e9fc3"
   },
   "outputs": [],
   "source": [
    "class Greeter:\n",
    "    def __init__(self, name):\n",
    "        self.name = name\n",
    "\n",
    "    def greet(self, loud=False):\n",
    "        if loud:\n",
    "            print('HELLO, {}'.format(self.name.upper()))\n",
    "        else:\n",
    "            print('Hello, {}!'.format(self.name))"
   ]
  },
  {
   "cell_type": "markdown",
   "id": "entertaining-vinyl",
   "metadata": {},
   "source": [
    "Where `__init__` is a constructor of the class and `greet` is a method."
   ]
  },
  {
   "cell_type": "markdown",
   "id": "another-scratch",
   "metadata": {},
   "source": [
    "Construct an instance of the Greeter class:"
   ]
  },
  {
   "cell_type": "code",
   "execution_count": 47,
   "id": "undefined-america",
   "metadata": {},
   "outputs": [],
   "source": [
    "g = Greeter('Fred')"
   ]
  },
  {
   "cell_type": "markdown",
   "id": "concrete-benchmark",
   "metadata": {},
   "source": [
    "Call an instance method; prints \"Hello, Fred\":"
   ]
  },
  {
   "cell_type": "code",
   "execution_count": 105,
   "id": "simplified-laptop",
   "metadata": {},
   "outputs": [
    {
     "name": "stdout",
     "output_type": "stream",
     "text": [
      "Hello, Fred!\n"
     ]
    }
   ],
   "source": [
    "g.greet()"
   ]
  },
  {
   "cell_type": "markdown",
   "id": "aware-mexico",
   "metadata": {},
   "source": [
    "Call an instance method; prints \"HELLO, FRED!\":"
   ]
  },
  {
   "cell_type": "code",
   "execution_count": 106,
   "id": "clear-guyana",
   "metadata": {},
   "outputs": [
    {
     "name": "stdout",
     "output_type": "stream",
     "text": [
      "HELLO, FRED\n"
     ]
    }
   ],
   "source": [
    "g.greet(loud=True)"
   ]
  },
  {
   "cell_type": "markdown",
   "id": "measured-buying",
   "metadata": {},
   "source": [
    "Let's consider another example:"
   ]
  },
  {
   "cell_type": "markdown",
   "id": "transparent-beast",
   "metadata": {},
   "source": [
    "Below is a class definition named `Shape`. It stores the data attribute shape which is just a string. The only member function implemented in this class is the special `__str__` function which returns the string when called on an object instantiated from the class `Shape`."
   ]
  },
  {
   "cell_type": "code",
   "execution_count": 15,
   "id": "latin-junction",
   "metadata": {},
   "outputs": [],
   "source": [
    "class Shape():\n",
    "    \n",
    "    def __init__(self):\n",
    "        self.shape = 'shape'\n",
    "        \n",
    "    def __str__(self):\n",
    "        return 'I am a {}!'.format(self.shape)"
   ]
  },
  {
   "cell_type": "markdown",
   "id": "golden-walnut",
   "metadata": {},
   "source": [
    "Now we will instantiate the class and store it in an object with the variable name `shape`. Then we call the print statement giving `shape` as and argument and it automatically runs the `__str__` function and returns its result."
   ]
  },
  {
   "cell_type": "code",
   "execution_count": 16,
   "id": "biblical-timber",
   "metadata": {},
   "outputs": [
    {
     "name": "stdout",
     "output_type": "stream",
     "text": [
      "I am a shape!\n"
     ]
    }
   ],
   "source": [
    "shape = Shape()\n",
    "print(shape)"
   ]
  },
  {
   "cell_type": "markdown",
   "id": "passing-integrity",
   "metadata": {},
   "source": [
    "**Class inheritance**"
   ]
  },
  {
   "cell_type": "markdown",
   "id": "foreign-railway",
   "metadata": {},
   "source": [
    "Now we will derive a class from `Shape` called `Polygon`. A `Polygon` is a `Shape` and therefore all of the functions defined in `Shape` will work on an instantiated object of `Polygon` (unless they are explicitly overridden)."
   ]
  },
  {
   "cell_type": "code",
   "execution_count": 17,
   "id": "controlled-target",
   "metadata": {},
   "outputs": [],
   "source": [
    "class Polygon(Shape):\n",
    "    \n",
    "    def __init__(self):\n",
    "        self.shape = 'polygon'\n",
    "        self.side_lengths = None\n",
    "        \n",
    "    def compute_perimeter(self):\n",
    "        return sum(self.side_lengths)\n",
    "    \n",
    "    def get_number_of_edges(self):\n",
    "        return len(self.side_lengths)"
   ]
  },
  {
   "cell_type": "markdown",
   "id": "incorrect-nation",
   "metadata": {},
   "source": [
    "Now we can instantiate a `Polygon` object called `polygon` and call print on it. It returns the function call from `__str__` that is only defined in `Shape` because a `Polygon` is a `Shape`."
   ]
  },
  {
   "cell_type": "code",
   "execution_count": 18,
   "id": "forty-police",
   "metadata": {},
   "outputs": [
    {
     "name": "stdout",
     "output_type": "stream",
     "text": [
      "I am a polygon!\n"
     ]
    }
   ],
   "source": [
    "polygon = Polygon()\n",
    "print(polygon)"
   ]
  },
  {
   "cell_type": "markdown",
   "id": "western-kitty",
   "metadata": {},
   "source": [
    "Let's define a `Rectangle` class, which will have side lengths."
   ]
  },
  {
   "cell_type": "code",
   "execution_count": 21,
   "id": "chronic-longer",
   "metadata": {},
   "outputs": [],
   "source": [
    "class Rectangle(Polygon):\n",
    "    \n",
    "    def __init__(self):\n",
    "        self.shape = 'rectangle'\n",
    "        self.side_lengths = [1, 1, 1, 1]"
   ]
  },
  {
   "cell_type": "code",
   "execution_count": 22,
   "id": "deluxe-mining",
   "metadata": {},
   "outputs": [
    {
     "name": "stdout",
     "output_type": "stream",
     "text": [
      "I am a rectangle!\n"
     ]
    }
   ],
   "source": [
    "rectangle = Rectangle()\n",
    "print(rectangle)"
   ]
  },
  {
   "cell_type": "markdown",
   "id": "anticipated-curve",
   "metadata": {},
   "source": [
    "In a `Rectangle` we define explicitely `side_lengths`, so now we can call `compute_perimiter()` from the `Polygon` class:"
   ]
  },
  {
   "cell_type": "code",
   "execution_count": 23,
   "id": "dynamic-distributor",
   "metadata": {},
   "outputs": [
    {
     "data": {
      "text/plain": [
       "4"
      ]
     },
     "execution_count": 23,
     "metadata": {},
     "output_type": "execute_result"
    }
   ],
   "source": [
    "rectangle.compute_perimeter()"
   ]
  },
  {
   "cell_type": "code",
   "execution_count": 24,
   "id": "statutory-concentrate",
   "metadata": {
    "tags": []
   },
   "outputs": [
    {
     "data": {
      "text/plain": [
       "4"
      ]
     },
     "execution_count": 24,
     "metadata": {},
     "output_type": "execute_result"
    }
   ],
   "source": [
    "rectangle.get_number_of_edges()"
   ]
  },
  {
   "cell_type": "markdown",
   "id": "desperate-mason",
   "metadata": {},
   "source": [
    "As we can see now, the above methods provide a meaningful answer."
   ]
  },
  {
   "cell_type": "markdown",
   "id": "usual-announcement",
   "metadata": {},
   "source": [
    "**Class inheritance**"
   ]
  },
  {
   "cell_type": "markdown",
   "id": "electrical-memorial",
   "metadata": {},
   "source": [
    "Let's define a parent class `Cat` and a child class `FatCat` which inherits from its parent."
   ]
  },
  {
   "cell_type": "code",
   "execution_count": 7,
   "id": "given-lemon",
   "metadata": {},
   "outputs": [],
   "source": [
    "class Cat():\n",
    "    def meow(self):\n",
    "        return 'I am just a cat!'\n",
    "        \n",
    "class FatCat(Cat):\n",
    "    def meow(self):\n",
    "        return 'I am not just a cat! I am a fat cat!'"
   ]
  },
  {
   "cell_type": "markdown",
   "id": "afraid-highlight",
   "metadata": {},
   "source": [
    "The method `meow` is overridden in `FatCat`."
   ]
  },
  {
   "cell_type": "code",
   "execution_count": 8,
   "id": "monthly-english",
   "metadata": {},
   "outputs": [
    {
     "name": "stdout",
     "output_type": "stream",
     "text": [
      "I am just a cat!\n",
      "I am not just a cat! I am a fat cat!\n"
     ]
    }
   ],
   "source": [
    "cat = Cat()\n",
    "fat = FatCat()\n",
    "\n",
    "print(cat.meow())\n",
    "print(fat.meow())"
   ]
  },
  {
   "cell_type": "markdown",
   "id": "sunset-leather",
   "metadata": {},
   "source": [
    "You can call a parent's method by using a special function `super()` as shown below."
   ]
  },
  {
   "cell_type": "code",
   "execution_count": 50,
   "id": "fifty-diamond",
   "metadata": {},
   "outputs": [],
   "source": [
    "class Cat():\n",
    "    def meow(self):\n",
    "        return 'I am just a cat!'\n",
    "        \n",
    "class FatCat(Cat):\n",
    "    def meow(self):\n",
    "        return super().meow() + ' meow!'"
   ]
  },
  {
   "cell_type": "code",
   "execution_count": 51,
   "id": "accessible-major",
   "metadata": {},
   "outputs": [
    {
     "name": "stdout",
     "output_type": "stream",
     "text": [
      "I am just a cat!\n",
      "I am just a cat! meow!\n"
     ]
    }
   ],
   "source": [
    "cat = Cat()\n",
    "fat = FatCat()\n",
    "\n",
    "print(cat.meow())\n",
    "print(fat.meow())"
   ]
  },
  {
   "cell_type": "markdown",
   "id": "fabulous-idaho",
   "metadata": {},
   "source": [
    "Now both classes call the same function `meow()` implemented in `Cat`."
   ]
  },
  {
   "cell_type": "markdown",
   "id": "communist-prison",
   "metadata": {},
   "source": [
    "You can check if a given subclass is a child of a parent class:"
   ]
  },
  {
   "cell_type": "code",
   "execution_count": 50,
   "id": "varied-marijuana",
   "metadata": {
    "scrolled": true
   },
   "outputs": [
    {
     "name": "stdout",
     "output_type": "stream",
     "text": [
      "True\n"
     ]
    }
   ],
   "source": [
    "print(issubclass(FatCat, Cat))"
   ]
  },
  {
   "cell_type": "markdown",
   "id": "hungry-auction",
   "metadata": {},
   "source": [
    "Additionally, you can check if an instance belong to a given class:"
   ]
  },
  {
   "cell_type": "code",
   "execution_count": 11,
   "id": "fallen-anthony",
   "metadata": {},
   "outputs": [
    {
     "name": "stdout",
     "output_type": "stream",
     "text": [
      "True\n"
     ]
    }
   ],
   "source": [
    "print(isinstance(cat, Cat))"
   ]
  },
  {
   "cell_type": "markdown",
   "id": "indian-tuesday",
   "metadata": {},
   "source": [
    "**Dunder** methods -- **double under(score)** methods"
   ]
  },
  {
   "cell_type": "markdown",
   "id": "elect-terrorism",
   "metadata": {},
   "source": [
    "Example of using `__init__` (a constructor) and `__len__` which gives a way to call the `len()` function on a class implementing `__len__`:"
   ]
  },
  {
   "cell_type": "code",
   "execution_count": 14,
   "id": "starting-potato",
   "metadata": {},
   "outputs": [],
   "source": [
    "class Line():\n",
    "    def __init__(self, length):\n",
    "        self.length = length\n",
    "        \n",
    "    def __len__(self):\n",
    "        return self.length"
   ]
  },
  {
   "cell_type": "markdown",
   "id": "fatal-guinea",
   "metadata": {},
   "source": [
    "For the `Line` class it makes sense to be able to call `len()` on the class instance:"
   ]
  },
  {
   "cell_type": "code",
   "execution_count": 15,
   "id": "arbitrary-diabetes",
   "metadata": {},
   "outputs": [],
   "source": [
    "line = Line(length=20)"
   ]
  },
  {
   "cell_type": "code",
   "execution_count": 16,
   "id": "impressed-valley",
   "metadata": {},
   "outputs": [
    {
     "data": {
      "text/plain": [
       "20"
      ]
     },
     "execution_count": 16,
     "metadata": {},
     "output_type": "execute_result"
    }
   ],
   "source": [
    "len(line)"
   ]
  },
  {
   "cell_type": "markdown",
   "id": "conditional-swimming",
   "metadata": {},
   "source": [
    "We can implement `__add__` in a class, it acts like a `+` operator. See a nontrivial example below:"
   ]
  },
  {
   "cell_type": "code",
   "execution_count": 45,
   "id": "serial-routine",
   "metadata": {},
   "outputs": [],
   "source": [
    "class Cat():\n",
    "    def __init__(self, breed):\n",
    "        self.breed = breed\n",
    "        \n",
    "    def __add__(self, other_cat):\n",
    "        return self.breed + '-' + other_cat.breed + ' hybrid'"
   ]
  },
  {
   "cell_type": "code",
   "execution_count": 46,
   "id": "active-blind",
   "metadata": {},
   "outputs": [
    {
     "name": "stdout",
     "output_type": "stream",
     "text": [
      "british-scottish hybrid\n"
     ]
    }
   ],
   "source": [
    "british = Cat(breed='british')\n",
    "scottish = Cat(breed='scottish')\n",
    "\n",
    "print(british + scottish)"
   ]
  },
  {
   "cell_type": "markdown",
   "id": "flying-cuisine",
   "metadata": {},
   "source": [
    "Shared data can have possibly surprising effects with involving mutable objects such as lists and dictionaries. For example:\n",
    "\n",
    "The tricks list in the following code should not be used as a class variable because just a single list would be shared by all `Dog` instances:"
   ]
  },
  {
   "cell_type": "code",
   "execution_count": 17,
   "id": "crucial-fundamental",
   "metadata": {},
   "outputs": [],
   "source": [
    "class Dog:\n",
    "\n",
    "    # mistaken use of a class variable `tricks`\n",
    "    tricks = []\n",
    "\n",
    "    def __init__(self, name):\n",
    "        self.name = name\n",
    "\n",
    "    def add_trick(self, trick):\n",
    "        self.tricks.append(trick)"
   ]
  },
  {
   "cell_type": "markdown",
   "id": "short-tiffany",
   "metadata": {},
   "source": [
    "See how `tricks` are unexpectedly shared by all dogs:"
   ]
  },
  {
   "cell_type": "code",
   "execution_count": 18,
   "id": "optimum-burning",
   "metadata": {},
   "outputs": [],
   "source": [
    "d = Dog('Fido')\n",
    "e = Dog('Buddy')\n",
    "\n",
    "d.add_trick('roll over')\n",
    "e.add_trick('play dead')"
   ]
  },
  {
   "cell_type": "code",
   "execution_count": 19,
   "id": "sporting-evanescence",
   "metadata": {},
   "outputs": [
    {
     "name": "stdout",
     "output_type": "stream",
     "text": [
      "Tricks learned by Fido ['roll over', 'play dead']\n",
      "Tricks learned by Buddy ['roll over', 'play dead']\n"
     ]
    }
   ],
   "source": [
    "print('Tricks learned by Fido {}'.format(d.tricks))\n",
    "print('Tricks learned by Buddy {}'.format(e.tricks))"
   ]
  },
  {
   "cell_type": "markdown",
   "id": "nervous-hurricane",
   "metadata": {},
   "source": [
    "But we teach Fido to roll over and Buddy to play dead!"
   ]
  },
  {
   "cell_type": "markdown",
   "id": "hydraulic-highway",
   "metadata": {},
   "source": [
    "Solution: each list `tricks` should be stored as private in each instance:"
   ]
  },
  {
   "cell_type": "code",
   "execution_count": 20,
   "id": "accomplished-router",
   "metadata": {},
   "outputs": [],
   "source": [
    "class Dog:\n",
    "    def __init__(self, name):\n",
    "        self.name = name\n",
    "        self.tricks = []    # <- Here is the change\n",
    "\n",
    "    def add_trick(self, trick):\n",
    "        self.tricks.append(trick)"
   ]
  },
  {
   "cell_type": "code",
   "execution_count": 21,
   "id": "buried-gauge",
   "metadata": {},
   "outputs": [],
   "source": [
    "d = Dog('Fido')\n",
    "e = Dog('Buddy')\n",
    "\n",
    "d.add_trick('roll over')\n",
    "e.add_trick('play dead')"
   ]
  },
  {
   "cell_type": "code",
   "execution_count": 22,
   "id": "greater-quantum",
   "metadata": {},
   "outputs": [
    {
     "name": "stdout",
     "output_type": "stream",
     "text": [
      "Tricks learned by Fido ['roll over']\n",
      "Tricks learned by Buddy ['play dead']\n"
     ]
    }
   ],
   "source": [
    "print('Tricks learned by Fido {}'.format(d.tricks))\n",
    "print('Tricks learned by Buddy {}'.format(e.tricks))"
   ]
  },
  {
   "cell_type": "markdown",
   "id": "objective-stationery",
   "metadata": {},
   "source": [
    "Classes can be used as an equivalent of `c++` structures. See that envoking a field and assigining a value to it creates a new field in an empy class:"
   ]
  },
  {
   "cell_type": "markdown",
   "id": "frequent-flash",
   "metadata": {},
   "source": [
    "Define an ampty class:"
   ]
  },
  {
   "cell_type": "code",
   "execution_count": 23,
   "id": "living-challenge",
   "metadata": {},
   "outputs": [],
   "source": [
    "class Employee:\n",
    "    pass"
   ]
  },
  {
   "cell_type": "markdown",
   "id": "accessible-democrat",
   "metadata": {},
   "source": [
    "Create an empty employee record:"
   ]
  },
  {
   "cell_type": "code",
   "execution_count": 26,
   "id": "arctic-shooting",
   "metadata": {},
   "outputs": [],
   "source": [
    "john = Employee()"
   ]
  },
  {
   "cell_type": "markdown",
   "id": "fluid-interstate",
   "metadata": {},
   "source": [
    "Fill the fields of the record:"
   ]
  },
  {
   "cell_type": "code",
   "execution_count": 27,
   "id": "bright-hammer",
   "metadata": {},
   "outputs": [],
   "source": [
    "john.name = 'John Doe'\n",
    "john.dept = 'computer lab'\n",
    "john.salary = 1000"
   ]
  },
  {
   "cell_type": "markdown",
   "id": "automated-station",
   "metadata": {},
   "source": [
    "Let's see the fileds in `john`:"
   ]
  },
  {
   "cell_type": "code",
   "execution_count": 28,
   "id": "injured-traffic",
   "metadata": {},
   "outputs": [
    {
     "name": "stdout",
     "output_type": "stream",
     "text": [
      "John Doe\n",
      "computer lab\n",
      "1000\n"
     ]
    }
   ],
   "source": [
    "print(john.name)\n",
    "print(john.dept)\n",
    "print(john.salary)"
   ]
  }
 ],
 "metadata": {
  "kernelspec": {
   "display_name": "Python 3",
   "language": "python",
   "name": "python3"
  },
  "language_info": {
   "codemirror_mode": {
    "name": "ipython",
    "version": 3
   },
   "file_extension": ".py",
   "mimetype": "text/x-python",
   "name": "python",
   "nbconvert_exporter": "python",
   "pygments_lexer": "ipython3",
   "version": "3.7.4"
  }
 },
 "nbformat": 4,
 "nbformat_minor": 5
}
