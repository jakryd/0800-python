{
 "cells": [
  {
   "cell_type": "markdown",
   "id": "insured-consolidation",
   "metadata": {},
   "source": [
    "### Flow control "
   ]
  },
  {
   "cell_type": "markdown",
   "id": "defensive-cream",
   "metadata": {},
   "source": [
    "#### Conditional expressions: `if`, `elif`, `else`"
   ]
  },
  {
   "cell_type": "markdown",
   "id": "narrative-showcase",
   "metadata": {},
   "source": [
    "If 2**2 is equal to 4 print 'Obvious!'"
   ]
  },
  {
   "cell_type": "code",
   "execution_count": 54,
   "id": "former-cliff",
   "metadata": {},
   "outputs": [
    {
     "name": "stdout",
     "output_type": "stream",
     "text": [
      "Obvious!\n"
     ]
    }
   ],
   "source": [
    "if 2**2 == 4:\n",
    "    print('Obvious!')"
   ]
  },
  {
   "cell_type": "markdown",
   "id": "commercial-vulnerability",
   "metadata": {},
   "source": [
    "You can check additional conditions using `elif` or `else` keywords:"
   ]
  },
  {
   "cell_type": "code",
   "execution_count": 56,
   "id": "champion-temperature",
   "metadata": {},
   "outputs": [
    {
     "name": "stdout",
     "output_type": "stream",
     "text": [
      "It is equal to 8!\n"
     ]
    }
   ],
   "source": [
    "if 2**3 == 4:\n",
    "    print('It is equal to 4!')\n",
    "elif 2**3 == 8:\n",
    "    print('It is equal to 8!')\n",
    "else:\n",
    "    print('I do not have an idea what is going on!')"
   ]
  },
  {
   "cell_type": "markdown",
   "id": "bacterial-roller",
   "metadata": {},
   "source": [
    "Conditional expressions can also be used with list comprehension:"
   ]
  },
  {
   "cell_type": "code",
   "execution_count": 33,
   "id": "qualified-windows",
   "metadata": {},
   "outputs": [
    {
     "name": "stdout",
     "output_type": "stream",
     "text": [
      "[0, 4, 16, 36, 64]\n"
     ]
    }
   ],
   "source": [
    "l = range(10)\n",
    "even_squares = [x ** 2 for x in l if x % 2 == 0]\n",
    "print(even_squares)"
   ]
  },
  {
   "cell_type": "markdown",
   "id": "alpine-culture",
   "metadata": {},
   "source": [
    "Also with `else`:"
   ]
  },
  {
   "cell_type": "code",
   "execution_count": 34,
   "id": "pediatric-pierce",
   "metadata": {},
   "outputs": [
    {
     "name": "stdout",
     "output_type": "stream",
     "text": [
      "[0, 1, 4, 27, 16, 125, 36, 343, 64, 729]\n"
     ]
    }
   ],
   "source": [
    "l = range(10)\n",
    "even_squares = [x ** 2 if x % 2 == 0 else x ** 3 for x in l]\n",
    "print(even_squares)"
   ]
  },
  {
   "cell_type": "markdown",
   "id": "aboriginal-embassy",
   "metadata": {},
   "source": [
    "In general, \n",
    "`[f(x) if condition else g(x) for x in sequence]`\n",
    "\n",
    "And, for list comprehensions with if conditions only,\n",
    "`[f(x) for x in sequence if condition]`"
   ]
  },
  {
   "cell_type": "markdown",
   "id": "statistical-gathering",
   "metadata": {},
   "source": [
    "#### Loops: `for` with `range`"
   ]
  },
  {
   "cell_type": "markdown",
   "id": "hungarian-essay",
   "metadata": {},
   "source": [
    "Interate in a range [0, 4):"
   ]
  },
  {
   "cell_type": "code",
   "execution_count": 62,
   "id": "anticipated-moore",
   "metadata": {},
   "outputs": [
    {
     "name": "stdout",
     "output_type": "stream",
     "text": [
      "0\n",
      "1\n",
      "2\n",
      "3\n"
     ]
    }
   ],
   "source": [
    "for i in range(4):\n",
    "    print(i)"
   ]
  },
  {
   "cell_type": "markdown",
   "id": "sized-junction",
   "metadata": {},
   "source": [
    "In a range [2,4):"
   ]
  },
  {
   "cell_type": "code",
   "execution_count": 63,
   "id": "applied-constant",
   "metadata": {},
   "outputs": [
    {
     "name": "stdout",
     "output_type": "stream",
     "text": [
      "2\n",
      "3\n"
     ]
    }
   ],
   "source": [
    "for i in range(2, 4):\n",
    "    print(i)"
   ]
  },
  {
   "cell_type": "markdown",
   "id": "creative-maldives",
   "metadata": {},
   "source": [
    "In a range [1, 6) every second item:"
   ]
  },
  {
   "cell_type": "code",
   "execution_count": 64,
   "id": "tropical-wonder",
   "metadata": {},
   "outputs": [
    {
     "name": "stdout",
     "output_type": "stream",
     "text": [
      "1\n",
      "3\n",
      "5\n"
     ]
    }
   ],
   "source": [
    "for i in range(1, 6, 2):\n",
    "    print(i)"
   ]
  },
  {
   "cell_type": "markdown",
   "id": "lyric-blogger",
   "metadata": {},
   "source": [
    "You can iterate over a list explicitely:"
   ]
  },
  {
   "cell_type": "code",
   "execution_count": 65,
   "id": "instructional-colonial",
   "metadata": {},
   "outputs": [
    {
     "name": "stdout",
     "output_type": "stream",
     "text": [
      "Python is cool\n",
      "Python is powerful\n",
      "Python is readable\n"
     ]
    }
   ],
   "source": [
    "for word in ('cool', 'powerful', 'readable'):\n",
    "    print('Python is %s' % word)"
   ]
  },
  {
   "cell_type": "markdown",
   "id": "analyzed-looking",
   "metadata": {},
   "source": [
    "#### Loops: `while` with `break`, `continue`"
   ]
  },
  {
   "cell_type": "markdown",
   "id": "imperial-admission",
   "metadata": {},
   "source": [
    "An example of `while` to power a complex number:"
   ]
  },
  {
   "cell_type": "code",
   "execution_count": 68,
   "id": "sapphire-simpson",
   "metadata": {},
   "outputs": [
    {
     "name": "stdout",
     "output_type": "stream",
     "text": [
      "(1+2j)\n",
      "(-2+4j)\n",
      "(-11-16j)\n",
      "(-134+352j)\n"
     ]
    }
   ],
   "source": [
    "z = 1 + 1j\n",
    "while abs(z) < 100:\n",
    "    z = z**2 + 1\n",
    "    print(z)"
   ]
  },
  {
   "cell_type": "markdown",
   "id": "hearing-extension",
   "metadata": {},
   "source": [
    "Stop iteration if the imaginary part of z is equal to 4:"
   ]
  },
  {
   "cell_type": "code",
   "execution_count": 72,
   "id": "south-newport",
   "metadata": {},
   "outputs": [
    {
     "name": "stdout",
     "output_type": "stream",
     "text": [
      "(1+2j)\n",
      "(-2+4j)\n"
     ]
    }
   ],
   "source": [
    "z = 1 + 1j\n",
    "while abs(z) < 100:\n",
    "    if z.imag == 4:\n",
    "        break\n",
    "    z = z**2 + 1\n",
    "    print(z)"
   ]
  },
  {
   "cell_type": "markdown",
   "id": "other-basket",
   "metadata": {},
   "source": [
    "Go to the next iteration if `element` is 0:"
   ]
  },
  {
   "cell_type": "code",
   "execution_count": 39,
   "id": "reliable-personality",
   "metadata": {},
   "outputs": [
    {
     "name": "stdout",
     "output_type": "stream",
     "text": [
      "1.0\n",
      "0.5\n",
      "0.25\n"
     ]
    }
   ],
   "source": [
    "a = [1, 0, 2, 4]\n",
    "for element in a:\n",
    "    if element == 0:\n",
    "        continue\n",
    "    print(1. / element)"
   ]
  },
  {
   "cell_type": "markdown",
   "id": "authentic-attribute",
   "metadata": {},
   "source": [
    "***"
   ]
  },
  {
   "cell_type": "markdown",
   "id": "urban-profit",
   "metadata": {},
   "source": [
    "**Getting indexes**"
   ]
  },
  {
   "cell_type": "markdown",
   "id": "explicit-baghdad",
   "metadata": {},
   "source": [
    "You can retrive the iteration index in two ways:"
   ]
  },
  {
   "cell_type": "code",
   "execution_count": 40,
   "id": "distant-defensive",
   "metadata": {},
   "outputs": [
    {
     "name": "stdout",
     "output_type": "stream",
     "text": [
      "(0, 'cool')\n",
      "(1, 'powerful')\n",
      "(2, 'readable')\n"
     ]
    }
   ],
   "source": [
    "words = ('cool', 'powerful', 'readable')\n",
    "for i in range(0, len(words)):\n",
    "    print((i, words[i]))"
   ]
  },
  {
   "cell_type": "code",
   "execution_count": 41,
   "id": "sensitive-kingdom",
   "metadata": {},
   "outputs": [
    {
     "name": "stdout",
     "output_type": "stream",
     "text": [
      "(0, 'cool')\n",
      "(1, 'powerful')\n",
      "(2, 'readable')\n"
     ]
    }
   ],
   "source": [
    "for index, item in enumerate(words):\n",
    "    print((index, item))"
   ]
  },
  {
   "cell_type": "markdown",
   "id": "immediate-utility",
   "metadata": {},
   "source": [
    "Iterating over a dictionary is also possible:"
   ]
  },
  {
   "cell_type": "code",
   "execution_count": 42,
   "id": "former-citizen",
   "metadata": {},
   "outputs": [
    {
     "name": "stdout",
     "output_type": "stream",
     "text": [
      "Key: a has value: 1\n",
      "Key: b has value: 1.2\n",
      "Key: c has value: 1j\n"
     ]
    }
   ],
   "source": [
    "d = {'a': 1, 'b':1.2, 'c':1j}\n",
    "\n",
    "for key, val in sorted(d.items()):\n",
    "    print('Key: %s has value: %s' % (key, val))"
   ]
  },
  {
   "cell_type": "markdown",
   "id": "fatal-college",
   "metadata": {},
   "source": [
    "***"
   ]
  },
  {
   "cell_type": "markdown",
   "id": "modern-fashion",
   "metadata": {},
   "source": [
    "**Examples**"
   ]
  },
  {
   "cell_type": "markdown",
   "id": "outer-error",
   "metadata": {},
   "source": [
    "Compute the decimals of Pi using the Wallis formula:\n",
    "\n",
    "$\\pi = 2 \\prod_{i=1}^{\\infty} \\frac{4i^2}{4i^2 - 1}$"
   ]
  },
  {
   "cell_type": "code",
   "execution_count": 46,
   "id": "hundred-architect",
   "metadata": {},
   "outputs": [
    {
     "name": "stdout",
     "output_type": "stream",
     "text": [
      "After 10000 iterations pi is equal to 3.1415141108281714\n"
     ]
    }
   ],
   "source": [
    "pi = 2.0\n",
    "for i in range(1, 10000):\n",
    "    sqr = 4.0 * i ** 2\n",
    "    pi *= sqr / (sqr - 1)\n",
    "    \n",
    "print('After 10000 iterations pi is equal to {}'.format(pi))"
   ]
  },
  {
   "cell_type": "markdown",
   "id": "italian-found",
   "metadata": {},
   "source": [
    "Compute The MacLaurin series for $e^x$:"
   ]
  },
  {
   "cell_type": "markdown",
   "id": "occupational-yahoo",
   "metadata": {},
   "source": [
    "$e^x = \\sum_{k=0}^{\\infty} \\frac{x^k}{k!}$"
   ]
  },
  {
   "cell_type": "code",
   "execution_count": 36,
   "id": "coastal-withdrawal",
   "metadata": {},
   "outputs": [
    {
     "name": "stdout",
     "output_type": "stream",
     "text": [
      "After 10 iterations e^5 is equal to 143.68945656966488\n",
      "But its true value is 148.41315910257657\n"
     ]
    }
   ],
   "source": [
    "from math import factorial, e\n",
    "\n",
    "x = 5\n",
    "s = 0.0\n",
    "for k in range(0, 10):\n",
    "    s += x**k / factorial(k)\n",
    "    \n",
    "print('After 10 iterations e^5 is equal to {}'.format(s))\n",
    "print('But its true value is {}'.format(e**5))"
   ]
  },
  {
   "cell_type": "markdown",
   "id": "ideal-clear",
   "metadata": {},
   "source": [
    "***"
   ]
  }
 ],
 "metadata": {
  "kernelspec": {
   "display_name": "Python 3",
   "language": "python",
   "name": "python3"
  },
  "language_info": {
   "codemirror_mode": {
    "name": "ipython",
    "version": 3
   },
   "file_extension": ".py",
   "mimetype": "text/x-python",
   "name": "python",
   "nbconvert_exporter": "python",
   "pygments_lexer": "ipython3",
   "version": "3.7.4"
  }
 },
 "nbformat": 4,
 "nbformat_minor": 5
}
