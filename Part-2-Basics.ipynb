{
 "cells": [
  {
   "cell_type": "markdown",
   "id": "behavioral-russia",
   "metadata": {
    "colab_type": "text",
    "id": "NwS_hu4xL9eo"
   },
   "source": [
    "### Basic data types"
   ]
  },
  {
   "cell_type": "markdown",
   "id": "absent-southeast",
   "metadata": {
    "colab_type": "text",
    "id": "DL5sMSZ9L9eq"
   },
   "source": [
    "#### Numbers: `int`, `float`"
   ]
  },
  {
   "cell_type": "markdown",
   "id": "consistent-reducing",
   "metadata": {
    "colab_type": "text",
    "id": "MGS0XEWoL9er"
   },
   "source": [
    "Integers and floats work as you would expect from other languages:"
   ]
  },
  {
   "cell_type": "code",
   "execution_count": 2,
   "id": "expired-whole",
   "metadata": {
    "colab": {
     "base_uri": "https://localhost:8080/",
     "height": 52
    },
    "colab_type": "code",
    "id": "KheDr_zDL9es",
    "outputId": "1db9f4d3-2e0d-4008-f78a-161ed52c4359"
   },
   "outputs": [
    {
     "name": "stdout",
     "output_type": "stream",
     "text": [
      "3 <class 'int'>\n"
     ]
    }
   ],
   "source": [
    "x = 3\n",
    "print(x, type(x))"
   ]
  },
  {
   "cell_type": "markdown",
   "id": "maritime-bench",
   "metadata": {},
   "source": [
    "Addition `+`:"
   ]
  },
  {
   "cell_type": "code",
   "execution_count": 3,
   "id": "sharing-opportunity",
   "metadata": {
    "colab": {
     "base_uri": "https://localhost:8080/",
     "height": 86
    },
    "colab_type": "code",
    "id": "sk_8DFcuL9ey",
    "outputId": "dd60a271-3457-465d-e16a-41acf12a56ab"
   },
   "outputs": [
    {
     "name": "stdout",
     "output_type": "stream",
     "text": [
      "4\n"
     ]
    }
   ],
   "source": [
    "print(x + 1)"
   ]
  },
  {
   "cell_type": "markdown",
   "id": "voluntary-audience",
   "metadata": {},
   "source": [
    "Subtraction `-`:"
   ]
  },
  {
   "cell_type": "code",
   "execution_count": 4,
   "id": "english-horse",
   "metadata": {},
   "outputs": [
    {
     "name": "stdout",
     "output_type": "stream",
     "text": [
      "2\n"
     ]
    }
   ],
   "source": [
    "print(x - 1)"
   ]
  },
  {
   "cell_type": "markdown",
   "id": "faced-marine",
   "metadata": {},
   "source": [
    "Multiplication `*`:"
   ]
  },
  {
   "cell_type": "code",
   "execution_count": 5,
   "id": "robust-multimedia",
   "metadata": {},
   "outputs": [
    {
     "name": "stdout",
     "output_type": "stream",
     "text": [
      "6\n"
     ]
    }
   ],
   "source": [
    "print(x * 2)"
   ]
  },
  {
   "cell_type": "markdown",
   "id": "demographic-fancy",
   "metadata": {},
   "source": [
    "Division `/`:"
   ]
  },
  {
   "cell_type": "code",
   "execution_count": 6,
   "id": "noble-acoustic",
   "metadata": {},
   "outputs": [
    {
     "name": "stdout",
     "output_type": "stream",
     "text": [
      "1.5\n"
     ]
    }
   ],
   "source": [
    "print(x / 2)"
   ]
  },
  {
   "cell_type": "markdown",
   "id": "concerned-joseph",
   "metadata": {},
   "source": [
    "Exponentiation `**`:"
   ]
  },
  {
   "cell_type": "code",
   "execution_count": 7,
   "id": "caroline-escape",
   "metadata": {},
   "outputs": [
    {
     "name": "stdout",
     "output_type": "stream",
     "text": [
      "9\n"
     ]
    }
   ],
   "source": [
    "print(x ** 2)"
   ]
  },
  {
   "cell_type": "markdown",
   "id": "ceramic-missouri",
   "metadata": {},
   "source": [
    "Handy math operators:"
   ]
  },
  {
   "cell_type": "markdown",
   "id": "approximate-cornwall",
   "metadata": {},
   "source": [
    "`x = x + 1` is equivalent to:"
   ]
  },
  {
   "cell_type": "code",
   "execution_count": 8,
   "id": "missing-jewel",
   "metadata": {
    "colab": {
     "base_uri": "https://localhost:8080/",
     "height": 52
    },
    "colab_type": "code",
    "id": "U4Jl8K0tL9e4",
    "outputId": "07e3db14-3781-42b7-8ba6-042b3f9f72ba"
   },
   "outputs": [
    {
     "name": "stdout",
     "output_type": "stream",
     "text": [
      "4\n"
     ]
    }
   ],
   "source": [
    "x += 1\n",
    "print(x)"
   ]
  },
  {
   "cell_type": "markdown",
   "id": "different-polls",
   "metadata": {},
   "source": [
    "`x = x * 2` is equivalent to:"
   ]
  },
  {
   "cell_type": "code",
   "execution_count": 10,
   "id": "vietnamese-september",
   "metadata": {},
   "outputs": [
    {
     "name": "stdout",
     "output_type": "stream",
     "text": [
      "8\n"
     ]
    }
   ],
   "source": [
    "x *= 2\n",
    "print(x)"
   ]
  },
  {
   "cell_type": "markdown",
   "id": "heard-center",
   "metadata": {},
   "source": [
    "Same goes for `/=` and `-=`."
   ]
  },
  {
   "cell_type": "code",
   "execution_count": 9,
   "id": "sharp-garbage",
   "metadata": {
    "colab": {
     "base_uri": "https://localhost:8080/",
     "height": 52
    },
    "colab_type": "code",
    "id": "w-nZ0Sg_L9e9",
    "outputId": "3aa579f8-9540-46ef-935e-be887781ecb4"
   },
   "outputs": [
    {
     "name": "stdout",
     "output_type": "stream",
     "text": [
      "<class 'float'>\n",
      "2.5 3.5 5.0 6.25\n"
     ]
    }
   ],
   "source": [
    "y = 2.5\n",
    "print(type(y))\n",
    "print(y, y + 1, y * 2, y ** 2)"
   ]
  },
  {
   "cell_type": "markdown",
   "id": "generous-founder",
   "metadata": {},
   "source": [
    "You can format `float` using the following notation:"
   ]
  },
  {
   "cell_type": "code",
   "execution_count": 13,
   "id": "ruled-mercy",
   "metadata": {},
   "outputs": [
    {
     "name": "stdout",
     "output_type": "stream",
     "text": [
      "pi truncated 3.14\n"
     ]
    }
   ],
   "source": [
    "pi = 3.141553243\n",
    "print('pi truncated {:.2f}'.format(pi))"
   ]
  },
  {
   "cell_type": "markdown",
   "id": "harmful-edwards",
   "metadata": {},
   "source": [
    "#### Complex numbers"
   ]
  },
  {
   "cell_type": "code",
   "execution_count": 6,
   "id": "concrete-qualification",
   "metadata": {},
   "outputs": [
    {
     "name": "stdout",
     "output_type": "stream",
     "text": [
      "1.5\n",
      "0.5\n",
      "(1.5+0.5j)\n",
      "<class 'complex'>\n"
     ]
    }
   ],
   "source": [
    "a = 1.5 + 0.5j\n",
    "print(a.real)\n",
    "print(a.imag)\n",
    "print(a)\n",
    "print(type(a))"
   ]
  },
  {
   "cell_type": "markdown",
   "id": "attractive-fellowship",
   "metadata": {
    "colab_type": "text",
    "id": "EqRS7qhBL9fC"
   },
   "source": [
    "#### Booleans"
   ]
  },
  {
   "cell_type": "markdown",
   "id": "tamil-lawyer",
   "metadata": {
    "colab_type": "text",
    "id": "Nv_LIVOJL9fD"
   },
   "source": [
    "Python implements all of the usual operators for Boolean logic, but uses English words rather than symbols (`&&`, `||`, etc.):"
   ]
  },
  {
   "cell_type": "markdown",
   "id": "statistical-guinea",
   "metadata": {},
   "source": [
    "Boolean operators: `>`, `<`, `>=`, `<=`, `==`, `!=`, `is`."
   ]
  },
  {
   "cell_type": "code",
   "execution_count": 15,
   "id": "accepting-authentication",
   "metadata": {
    "colab": {
     "base_uri": "https://localhost:8080/",
     "height": 34
    },
    "colab_type": "code",
    "id": "RvoImwgGL9fE",
    "outputId": "1517077b-edca-463f-857b-6a8c386cd387"
   },
   "outputs": [
    {
     "name": "stdout",
     "output_type": "stream",
     "text": [
      "<class 'bool'>\n"
     ]
    }
   ],
   "source": [
    "t, f = True, False\n",
    "print(type(t))"
   ]
  },
  {
   "cell_type": "markdown",
   "id": "grateful-congress",
   "metadata": {
    "colab_type": "text",
    "id": "YQgmQfOgL9fI"
   },
   "source": [
    "Now we let's look at the operations:"
   ]
  },
  {
   "cell_type": "markdown",
   "id": "administrative-documentary",
   "metadata": {},
   "source": [
    "Logical AND:"
   ]
  },
  {
   "cell_type": "code",
   "execution_count": 16,
   "id": "compressed-directive",
   "metadata": {
    "colab": {
     "base_uri": "https://localhost:8080/",
     "height": 86
    },
    "colab_type": "code",
    "id": "6zYm7WzCL9fK",
    "outputId": "f3cebe76-5af4-473a-8127-88a1fd60560f"
   },
   "outputs": [
    {
     "name": "stdout",
     "output_type": "stream",
     "text": [
      "False\n"
     ]
    }
   ],
   "source": [
    "print(t and f)"
   ]
  },
  {
   "cell_type": "markdown",
   "id": "bridal-budget",
   "metadata": {},
   "source": [
    "Logical OR:"
   ]
  },
  {
   "cell_type": "code",
   "execution_count": 18,
   "id": "essential-moscow",
   "metadata": {},
   "outputs": [
    {
     "name": "stdout",
     "output_type": "stream",
     "text": [
      "True\n"
     ]
    }
   ],
   "source": [
    "print(t or f)"
   ]
  },
  {
   "cell_type": "markdown",
   "id": "solar-torture",
   "metadata": {},
   "source": [
    "Logical NOT:"
   ]
  },
  {
   "cell_type": "code",
   "execution_count": 20,
   "id": "equivalent-reviewer",
   "metadata": {},
   "outputs": [
    {
     "name": "stdout",
     "output_type": "stream",
     "text": [
      "False\n"
     ]
    }
   ],
   "source": [
    "print(not t)"
   ]
  },
  {
   "cell_type": "markdown",
   "id": "contained-smile",
   "metadata": {},
   "source": [
    "Logical XOR:"
   ]
  },
  {
   "cell_type": "code",
   "execution_count": 21,
   "id": "informational-bench",
   "metadata": {},
   "outputs": [
    {
     "name": "stdout",
     "output_type": "stream",
     "text": [
      "True\n"
     ]
    }
   ],
   "source": [
    "print(t != f)"
   ]
  },
  {
   "cell_type": "markdown",
   "id": "straight-interaction",
   "metadata": {},
   "source": [
    "Examples that you should be aware of:"
   ]
  },
  {
   "cell_type": "code",
   "execution_count": 1,
   "id": "yellow-terrace",
   "metadata": {},
   "outputs": [
    {
     "name": "stdout",
     "output_type": "stream",
     "text": [
      "True\n"
     ]
    }
   ],
   "source": [
    "x = 1\n",
    "if(x):\n",
    "    print('True')\n",
    "else:\n",
    "    print('False')"
   ]
  },
  {
   "cell_type": "code",
   "execution_count": 2,
   "id": "roman-stephen",
   "metadata": {},
   "outputs": [
    {
     "name": "stdout",
     "output_type": "stream",
     "text": [
      "False\n"
     ]
    }
   ],
   "source": [
    "x = None\n",
    "if(x):\n",
    "    print('True')\n",
    "else:\n",
    "    print('False')"
   ]
  },
  {
   "cell_type": "code",
   "execution_count": 3,
   "id": "former-shade",
   "metadata": {},
   "outputs": [
    {
     "name": "stdout",
     "output_type": "stream",
     "text": [
      "True\n"
     ]
    }
   ],
   "source": [
    "x = 'Hello'\n",
    "if(x):\n",
    "    print('True')\n",
    "else:\n",
    "    print('False')"
   ]
  },
  {
   "cell_type": "code",
   "execution_count": 4,
   "id": "bridal-consumption",
   "metadata": {},
   "outputs": [
    {
     "name": "stdout",
     "output_type": "stream",
     "text": [
      "False\n"
     ]
    }
   ],
   "source": [
    "x = ''\n",
    "if(x):\n",
    "    print('True')\n",
    "else:\n",
    "    print('False')"
   ]
  },
  {
   "cell_type": "code",
   "execution_count": 6,
   "id": "classified-destination",
   "metadata": {},
   "outputs": [
    {
     "name": "stdout",
     "output_type": "stream",
     "text": [
      "False\n"
     ]
    }
   ],
   "source": [
    "import math\n",
    "\n",
    "x = math.sin(0.0)\n",
    "if(x):\n",
    "    print('True')\n",
    "else:\n",
    "    print('False')"
   ]
  },
  {
   "cell_type": "markdown",
   "id": "twelve-sperm",
   "metadata": {},
   "source": [
    "Floating point bool:"
   ]
  },
  {
   "cell_type": "code",
   "execution_count": 7,
   "id": "hidden-offense",
   "metadata": {},
   "outputs": [
    {
     "name": "stdout",
     "output_type": "stream",
     "text": [
      "False\n"
     ]
    }
   ],
   "source": [
    "x = 0.15 + 0.15\n",
    "y = 0.1 + 0.2\n",
    "print(x == y)"
   ]
  },
  {
   "cell_type": "markdown",
   "id": "prerequisite-gnome",
   "metadata": {},
   "source": [
    "How to solve it:"
   ]
  },
  {
   "cell_type": "code",
   "execution_count": 8,
   "id": "timely-powder",
   "metadata": {},
   "outputs": [
    {
     "data": {
      "text/plain": [
       "True"
      ]
     },
     "execution_count": 8,
     "metadata": {},
     "output_type": "execute_result"
    }
   ],
   "source": [
    "x = 0.15 + 0.15\n",
    "y = 0.1 + 0.2\n",
    "abs(x - y) < 10**-8"
   ]
  },
  {
   "cell_type": "markdown",
   "id": "opening-railway",
   "metadata": {
    "colab_type": "text",
    "id": "UQnQWFEyL9fP"
   },
   "source": [
    "#### Strings"
   ]
  },
  {
   "cell_type": "markdown",
   "id": "hourly-schedule",
   "metadata": {},
   "source": [
    "You can use single quotes `' '` or double quotes `\" \"` in string literals:"
   ]
  },
  {
   "cell_type": "code",
   "execution_count": 22,
   "id": "flush-probability",
   "metadata": {
    "colab": {
     "base_uri": "https://localhost:8080/",
     "height": 34
    },
    "colab_type": "code",
    "id": "AijEDtPFL9fP",
    "outputId": "2a6b0cd7-58f1-43cf-e6b7-bf940d532549"
   },
   "outputs": [
    {
     "name": "stdout",
     "output_type": "stream",
     "text": [
      "hello 5\n"
     ]
    }
   ],
   "source": [
    "hello = 'hello'\n",
    "world = \"world\"\n",
    "print(hello, len(hello))"
   ]
  },
  {
   "cell_type": "markdown",
   "id": "ordered-filter",
   "metadata": {},
   "source": [
    "And concatenate then like this:"
   ]
  },
  {
   "cell_type": "code",
   "execution_count": 23,
   "id": "instructional-ridge",
   "metadata": {
    "colab": {
     "base_uri": "https://localhost:8080/",
     "height": 34
    },
    "colab_type": "code",
    "id": "saDeaA7hL9fT",
    "outputId": "2837d0ab-9ae5-4053-d087-bfa0af81c344"
   },
   "outputs": [
    {
     "name": "stdout",
     "output_type": "stream",
     "text": [
      "hello world\n"
     ]
    }
   ],
   "source": [
    "hw = hello + ' ' + world\n",
    "print(hw)"
   ]
  },
  {
   "cell_type": "markdown",
   "id": "southeast-coordinator",
   "metadata": {},
   "source": [
    "You can format strings using `format` method:"
   ]
  },
  {
   "cell_type": "code",
   "execution_count": 24,
   "id": "hindu-condition",
   "metadata": {
    "colab": {
     "base_uri": "https://localhost:8080/",
     "height": 34
    },
    "colab_type": "code",
    "id": "Nji1_UjYL9fY",
    "outputId": "0149b0ca-425a-4a34-8e24-8dff7080922e"
   },
   "outputs": [
    {
     "name": "stdout",
     "output_type": "stream",
     "text": [
      "hello world 12\n"
     ]
    }
   ],
   "source": [
    "hw12 = '{} {} {}'.format(hello, world, 12)\n",
    "print(hw12)"
   ]
  },
  {
   "cell_type": "markdown",
   "id": "scientific-little",
   "metadata": {
    "colab_type": "text",
    "id": "bUpl35bIL9fc"
   },
   "source": [
    "String objects have a lot of useful methods; for example:"
   ]
  },
  {
   "cell_type": "markdown",
   "id": "close-prize",
   "metadata": {},
   "source": [
    "Capitalize a string:"
   ]
  },
  {
   "cell_type": "code",
   "execution_count": 25,
   "id": "dirty-ability",
   "metadata": {},
   "outputs": [
    {
     "name": "stdout",
     "output_type": "stream",
     "text": [
      "Hello\n"
     ]
    }
   ],
   "source": [
    "s = \"hello\"\n",
    "print(s.capitalize())"
   ]
  },
  {
   "cell_type": "markdown",
   "id": "interim-letter",
   "metadata": {},
   "source": [
    "Convert a string to uppercase:"
   ]
  },
  {
   "cell_type": "code",
   "execution_count": 26,
   "id": "liberal-acrylic",
   "metadata": {},
   "outputs": [
    {
     "name": "stdout",
     "output_type": "stream",
     "text": [
      "HELLO\n"
     ]
    }
   ],
   "source": [
    "print(s.upper())"
   ]
  },
  {
   "cell_type": "markdown",
   "id": "herbal-balance",
   "metadata": {},
   "source": [
    "Right-justify a string, padding with spaces:"
   ]
  },
  {
   "cell_type": "code",
   "execution_count": 27,
   "id": "overall-undergraduate",
   "metadata": {},
   "outputs": [
    {
     "name": "stdout",
     "output_type": "stream",
     "text": [
      "  hello\n"
     ]
    }
   ],
   "source": [
    "print(s.rjust(7))"
   ]
  },
  {
   "cell_type": "markdown",
   "id": "independent-guinea",
   "metadata": {},
   "source": [
    "Center a string, padding with spaces:"
   ]
  },
  {
   "cell_type": "code",
   "execution_count": 28,
   "id": "divine-ratio",
   "metadata": {},
   "outputs": [
    {
     "name": "stdout",
     "output_type": "stream",
     "text": [
      " hello \n"
     ]
    }
   ],
   "source": [
    "print(s.center(7))"
   ]
  },
  {
   "cell_type": "markdown",
   "id": "traditional-alloy",
   "metadata": {},
   "source": [
    "Replace all instances of one substring with another"
   ]
  },
  {
   "cell_type": "code",
   "execution_count": 29,
   "id": "conservative-monroe",
   "metadata": {},
   "outputs": [
    {
     "name": "stdout",
     "output_type": "stream",
     "text": [
      "he(ell)(ell)o\n"
     ]
    }
   ],
   "source": [
    "print(s.replace('l', '(ell)'))"
   ]
  },
  {
   "cell_type": "markdown",
   "id": "indian-silver",
   "metadata": {},
   "source": [
    "Strip leading and trailing whitespace"
   ]
  },
  {
   "cell_type": "code",
   "execution_count": 30,
   "id": "indie-patch",
   "metadata": {
    "colab": {
     "base_uri": "https://localhost:8080/",
     "height": 121
    },
    "colab_type": "code",
    "id": "VOxGatlsL9fd",
    "outputId": "ab009df3-8643-4d3e-f85f-a813b70db9cb"
   },
   "outputs": [
    {
     "name": "stdout",
     "output_type": "stream",
     "text": [
      "world\n"
     ]
    }
   ],
   "source": [
    "print('  world '.strip())"
   ]
  },
  {
   "cell_type": "markdown",
   "id": "danish-terrace",
   "metadata": {
    "colab_type": "text",
    "id": "06cayXLtL9fi"
   },
   "source": [
    "You can find a list of all string methods in the [documentation](https://docs.python.org/3.7/library/stdtypes.html#string-methods)."
   ]
  }
 ],
 "metadata": {
  "kernelspec": {
   "display_name": "Python 3",
   "language": "python",
   "name": "python3"
  },
  "language_info": {
   "codemirror_mode": {
    "name": "ipython",
    "version": 3
   },
   "file_extension": ".py",
   "mimetype": "text/x-python",
   "name": "python",
   "nbconvert_exporter": "python",
   "pygments_lexer": "ipython3",
   "version": "3.7.4"
  }
 },
 "nbformat": 4,
 "nbformat_minor": 5
}
