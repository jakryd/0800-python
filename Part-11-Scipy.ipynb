{
 "cells": [
  {
   "cell_type": "markdown",
   "id": "other-perception",
   "metadata": {},
   "source": [
    "### Central Limit Theorem"
   ]
  },
  {
   "cell_type": "markdown",
   "id": "connected-monkey",
   "metadata": {},
   "source": [
    "From wiki (https://en.wikipedia.org/wiki/Central_limit_theorem):\n",
    "> In probability theory, the central limit theorem (CLT) establishes that, in many situations, when independent random variables are added, their properly normalized sum tends toward a normal distribution (informally a bell curve) even if the original variables themselves are not normally distributed. The theorem is a key concept in probability theory because it implies that probabilistic and statistical methods that work for normal distributions can be applicable to many problems involving other types of distributions."
   ]
  },
  {
   "cell_type": "markdown",
   "id": "lyric-expense",
   "metadata": {},
   "source": [
    "Let's implement a general function to test the central limit theorem:"
   ]
  },
  {
   "cell_type": "code",
   "execution_count": 2,
   "id": "moving-hopkins",
   "metadata": {},
   "outputs": [],
   "source": [
    "def clt(dist, dist_params, n_dist=1, n_samples=1000):\n",
    "    X = np.empty(shape=(n_samples))\n",
    "    for i in range(n_samples):\n",
    "        random_sample = dist(dist_params[0], dist_params[1], size=n_dist)\n",
    "        X[i] = np.mean(random_sample)\n",
    "    return X"
   ]
  },
  {
   "cell_type": "markdown",
   "id": "foster-lyric",
   "metadata": {},
   "source": [
    "where we need to provide the number of distributions `n_dist`, the number of samples `n_samples`, the distribution to sample from `dist` (this should be a function), and the distribution parameters `dist_params` specific to the studied probability distribution."
   ]
  },
  {
   "cell_type": "markdown",
   "id": "amazing-ticket",
   "metadata": {},
   "source": [
    "As an example we take the beta distribution (`stats.beta.rvs`) with $\\alpha$ and $\\beta$ set as `dist_params=[0.5, 0.5]`."
   ]
  },
  {
   "cell_type": "code",
   "execution_count": 1,
   "id": "brutal-minority",
   "metadata": {},
   "outputs": [],
   "source": [
    "from scipy import stats\n",
    "import numpy as np\n",
    "import matplotlib.pyplot as plt"
   ]
  },
  {
   "cell_type": "markdown",
   "id": "secure-inflation",
   "metadata": {},
   "source": [
    "For `n_dist=1`, we have the following:"
   ]
  },
  {
   "cell_type": "code",
   "execution_count": 3,
   "id": "pregnant-remainder",
   "metadata": {},
   "outputs": [
    {
     "data": {
      "text/plain": [
       "Text(0, 0.5, 'Density')"
      ]
     },
     "execution_count": 3,
     "metadata": {},
     "output_type": "execute_result"
    },
    {
     "data": {
      "image/png": "[encoded data removed]",
      "text/plain": [
       "<Figure size 432x288 with 1 Axes>"
      ]
     },
     "metadata": {
      "needs_background": "light"
     },
     "output_type": "display_data"
    }
   ],
   "source": [
    "X = clt(dist=stats.beta.rvs, dist_params=[0.5, 0.5], n_dist=1, n_samples=100000)\n",
    "\n",
    "plt.hist(X, bins=50, density=True)\n",
    "plt.title('CLT $N=1$')\n",
    "plt.xlabel('$x$')\n",
    "plt.ylabel('Density')"
   ]
  },
  {
   "cell_type": "markdown",
   "id": "acting-failure",
   "metadata": {},
   "source": [
    "For `n_dist=2`:"
   ]
  },
  {
   "cell_type": "code",
   "execution_count": 4,
   "id": "abandoned-coordinate",
   "metadata": {},
   "outputs": [
    {
     "data": {
      "text/plain": [
       "Text(0, 0.5, 'Density')"
      ]
     },
     "execution_count": 4,
     "metadata": {},
     "output_type": "execute_result"
    },
    {
     "data": {
      "image/png": "[encoded data removed]",
      "text/plain": [
       "<Figure size 432x288 with 1 Axes>"
      ]
     },
     "metadata": {
      "needs_background": "light"
     },
     "output_type": "display_data"
    }
   ],
   "source": [
    "X = clt(dist=stats.beta.rvs, dist_params=[0.5, 0.5], n_dist=2, n_samples=100000)\n",
    "\n",
    "plt.hist(X, bins=50, density=True)\n",
    "plt.title('CLT $N=2$')\n",
    "plt.xlabel('$x$')\n",
    "plt.ylabel('Density')"
   ]
  },
  {
   "cell_type": "markdown",
   "id": "religious-franchise",
   "metadata": {},
   "source": [
    "For `n_dist=100` the resulting distribution starts to resemble a Gaussian distribution:"
   ]
  },
  {
   "cell_type": "code",
   "execution_count": 10,
   "id": "tough-pixel",
   "metadata": {},
   "outputs": [
    {
     "data": {
      "text/plain": [
       "Text(0, 0.5, 'Density')"
      ]
     },
     "execution_count": 10,
     "metadata": {},
     "output_type": "execute_result"
    },
    {
     "data": {
      "image/png": "[encoded data removed]",
      "text/plain": [
       "<Figure size 432x288 with 1 Axes>"
      ]
     },
     "metadata": {
      "needs_background": "light"
     },
     "output_type": "display_data"
    }
   ],
   "source": [
    "X = clt(dist=stats.beta.rvs, dist_params=[0.5, 0.5], n_dist=50, n_samples=100000)\n",
    "\n",
    "plt.hist(X, bins=50, density=True)\n",
    "plt.title('CLT $N=100$')\n",
    "plt.xlabel('$x$')\n",
    "plt.ylabel('Density')"
   ]
  },
  {
   "cell_type": "markdown",
   "id": "comprehensive-assault",
   "metadata": {},
   "source": [
    "This limiting result is valid even for mixtures of different distributions."
   ]
  },
  {
   "cell_type": "markdown",
   "id": "animated-pendant",
   "metadata": {},
   "source": [
    "***"
   ]
  },
  {
   "cell_type": "markdown",
   "id": "finite-bullet",
   "metadata": {},
   "source": [
    "### Linear algebra operations: `scipy.linalg`"
   ]
  },
  {
   "cell_type": "markdown",
   "id": "gorgeous-gates",
   "metadata": {},
   "source": [
    "The scipy.linalg module provides standard linear algebra operations, relying on an underlying efficient implementation (BLAS, LAPACK)."
   ]
  },
  {
   "cell_type": "markdown",
   "id": "infectious-possession",
   "metadata": {},
   "source": [
    "To begin import the module:"
   ]
  },
  {
   "cell_type": "code",
   "execution_count": 11,
   "id": "egyptian-scholar",
   "metadata": {},
   "outputs": [],
   "source": [
    "from scipy import linalg"
   ]
  },
  {
   "cell_type": "markdown",
   "id": "graphic-chick",
   "metadata": {},
   "source": [
    "Let's use `linalg.det` to calculate the determinant of a matrix:"
   ]
  },
  {
   "cell_type": "code",
   "execution_count": 12,
   "id": "happy-elite",
   "metadata": {},
   "outputs": [
    {
     "name": "stdout",
     "output_type": "stream",
     "text": [
      "det(A) is -2.0\n"
     ]
    }
   ],
   "source": [
    "A = np.array([[1, 2],\n",
    "              [3, 4]])\n",
    "\n",
    "print('det(A) is {}'.format(linalg.det(A)))"
   ]
  },
  {
   "cell_type": "markdown",
   "id": "centered-logic",
   "metadata": {},
   "source": [
    "Which is equal to what we can calculate analytically: $\\det = 1 \\cdot 4 - 2 \\cdot 3$."
   ]
  },
  {
   "cell_type": "markdown",
   "id": "prompt-patrol",
   "metadata": {},
   "source": [
    "Trying to calculate a determinant for an unequal matrix results in this:"
   ]
  },
  {
   "cell_type": "code",
   "execution_count": 13,
   "id": "adaptive-worst",
   "metadata": {},
   "outputs": [
    {
     "ename": "ValueError",
     "evalue": "expected square matrix",
     "output_type": "error",
     "traceback": [
      "\u001b[0;31m---------------------------------------------------------------------------\u001b[0m",
      "\u001b[0;31mValueError\u001b[0m                                Traceback (most recent call last)",
      "\u001b[0;32m<ipython-input-13-06573727bd3f>\u001b[0m in \u001b[0;36m<module>\u001b[0;34m\u001b[0m\n\u001b[0;32m----> 1\u001b[0;31m \u001b[0mlinalg\u001b[0m\u001b[0;34m.\u001b[0m\u001b[0mdet\u001b[0m\u001b[0;34m(\u001b[0m\u001b[0mnp\u001b[0m\u001b[0;34m.\u001b[0m\u001b[0mones\u001b[0m\u001b[0;34m(\u001b[0m\u001b[0;34m(\u001b[0m\u001b[0;36m3\u001b[0m\u001b[0;34m,\u001b[0m \u001b[0;36m4\u001b[0m\u001b[0;34m)\u001b[0m\u001b[0;34m)\u001b[0m\u001b[0;34m)\u001b[0m\u001b[0;34m\u001b[0m\u001b[0;34m\u001b[0m\u001b[0m\n\u001b[0m",
      "\u001b[0;32m~/anaconda3/lib/python3.7/site-packages/scipy/linalg/basic.py\u001b[0m in \u001b[0;36mdet\u001b[0;34m(a, overwrite_a, check_finite)\u001b[0m\n\u001b[1;32m   1018\u001b[0m     \u001b[0ma1\u001b[0m \u001b[0;34m=\u001b[0m \u001b[0m_asarray_validated\u001b[0m\u001b[0;34m(\u001b[0m\u001b[0ma\u001b[0m\u001b[0;34m,\u001b[0m \u001b[0mcheck_finite\u001b[0m\u001b[0;34m=\u001b[0m\u001b[0mcheck_finite\u001b[0m\u001b[0;34m)\u001b[0m\u001b[0;34m\u001b[0m\u001b[0;34m\u001b[0m\u001b[0m\n\u001b[1;32m   1019\u001b[0m     \u001b[0;32mif\u001b[0m \u001b[0mlen\u001b[0m\u001b[0;34m(\u001b[0m\u001b[0ma1\u001b[0m\u001b[0;34m.\u001b[0m\u001b[0mshape\u001b[0m\u001b[0;34m)\u001b[0m \u001b[0;34m!=\u001b[0m \u001b[0;36m2\u001b[0m \u001b[0;32mor\u001b[0m \u001b[0ma1\u001b[0m\u001b[0;34m.\u001b[0m\u001b[0mshape\u001b[0m\u001b[0;34m[\u001b[0m\u001b[0;36m0\u001b[0m\u001b[0;34m]\u001b[0m \u001b[0;34m!=\u001b[0m \u001b[0ma1\u001b[0m\u001b[0;34m.\u001b[0m\u001b[0mshape\u001b[0m\u001b[0;34m[\u001b[0m\u001b[0;36m1\u001b[0m\u001b[0;34m]\u001b[0m\u001b[0;34m:\u001b[0m\u001b[0;34m\u001b[0m\u001b[0;34m\u001b[0m\u001b[0m\n\u001b[0;32m-> 1020\u001b[0;31m         \u001b[0;32mraise\u001b[0m \u001b[0mValueError\u001b[0m\u001b[0;34m(\u001b[0m\u001b[0;34m'expected square matrix'\u001b[0m\u001b[0;34m)\u001b[0m\u001b[0;34m\u001b[0m\u001b[0;34m\u001b[0m\u001b[0m\n\u001b[0m\u001b[1;32m   1021\u001b[0m     \u001b[0moverwrite_a\u001b[0m \u001b[0;34m=\u001b[0m \u001b[0moverwrite_a\u001b[0m \u001b[0;32mor\u001b[0m \u001b[0m_datacopied\u001b[0m\u001b[0;34m(\u001b[0m\u001b[0ma1\u001b[0m\u001b[0;34m,\u001b[0m \u001b[0ma\u001b[0m\u001b[0;34m)\u001b[0m\u001b[0;34m\u001b[0m\u001b[0;34m\u001b[0m\u001b[0m\n\u001b[1;32m   1022\u001b[0m     \u001b[0mfdet\u001b[0m\u001b[0;34m,\u001b[0m \u001b[0;34m=\u001b[0m \u001b[0mget_flinalg_funcs\u001b[0m\u001b[0;34m(\u001b[0m\u001b[0;34m(\u001b[0m\u001b[0;34m'det'\u001b[0m\u001b[0;34m,\u001b[0m\u001b[0;34m)\u001b[0m\u001b[0;34m,\u001b[0m \u001b[0;34m(\u001b[0m\u001b[0ma1\u001b[0m\u001b[0;34m,\u001b[0m\u001b[0;34m)\u001b[0m\u001b[0;34m)\u001b[0m\u001b[0;34m\u001b[0m\u001b[0;34m\u001b[0m\u001b[0m\n",
      "\u001b[0;31mValueError\u001b[0m: expected square matrix"
     ]
    }
   ],
   "source": [
    "linalg.det(np.ones((3, 4)))"
   ]
  },
  {
   "cell_type": "markdown",
   "id": "latter-pittsburgh",
   "metadata": {},
   "source": [
    "We often need to compute the inverse of a square matrix. This can be done as:"
   ]
  },
  {
   "cell_type": "code",
   "execution_count": 6,
   "id": "historic-honduras",
   "metadata": {},
   "outputs": [
    {
     "name": "stdout",
     "output_type": "stream",
     "text": [
      "Inverse of A is \n",
      " [[-2.   1. ]\n",
      " [ 1.5 -0.5]]\n"
     ]
    }
   ],
   "source": [
    "print('Inverse of A is \\n {}'.format(linalg.inv(A)))"
   ]
  },
  {
   "cell_type": "markdown",
   "id": "shared-nightlife",
   "metadata": {},
   "source": [
    "Check if the obtained result is correct by $A \\cdot A^{-1} = \\mathrm{I}$:"
   ]
  },
  {
   "cell_type": "code",
   "execution_count": 14,
   "id": "smaller-annex",
   "metadata": {
    "scrolled": true
   },
   "outputs": [
    {
     "name": "stdout",
     "output_type": "stream",
     "text": [
      "A * A^-1 = I  True\n"
     ]
    }
   ],
   "source": [
    "close_enough = np.allclose(np.dot(A, linalg.inv(A)), np.eye(2))\n",
    "print('A * A^-1 = I ', close_enough)"
   ]
  },
  {
   "cell_type": "markdown",
   "id": "dd3ff8e4",
   "metadata": {},
   "source": [
    "Finally computing the inverse of a singular matrix (its determinant is zero) will raise LinAlgError:"
   ]
  },
  {
   "cell_type": "code",
   "execution_count": 15,
   "id": "1cb636af",
   "metadata": {},
   "outputs": [
    {
     "ename": "LinAlgError",
     "evalue": "singular matrix",
     "output_type": "error",
     "traceback": [
      "\u001b[0;31m---------------------------------------------------------------------------\u001b[0m",
      "\u001b[0;31mLinAlgError\u001b[0m                               Traceback (most recent call last)",
      "\u001b[0;32m<ipython-input-15-0a5492cd0062>\u001b[0m in \u001b[0;36m<module>\u001b[0;34m\u001b[0m\n\u001b[1;32m      2\u001b[0m                 [6, 4]])\n\u001b[1;32m      3\u001b[0m \u001b[0;34m\u001b[0m\u001b[0m\n\u001b[0;32m----> 4\u001b[0;31m \u001b[0mlinalg\u001b[0m\u001b[0;34m.\u001b[0m\u001b[0minv\u001b[0m\u001b[0;34m(\u001b[0m\u001b[0marr\u001b[0m\u001b[0;34m)\u001b[0m\u001b[0;34m\u001b[0m\u001b[0;34m\u001b[0m\u001b[0m\n\u001b[0m",
      "\u001b[0;32m~/anaconda3/lib/python3.7/site-packages/scipy/linalg/basic.py\u001b[0m in \u001b[0;36minv\u001b[0;34m(a, overwrite_a, check_finite)\u001b[0m\n\u001b[1;32m    961\u001b[0m         \u001b[0minv_a\u001b[0m\u001b[0;34m,\u001b[0m \u001b[0minfo\u001b[0m \u001b[0;34m=\u001b[0m \u001b[0mgetri\u001b[0m\u001b[0;34m(\u001b[0m\u001b[0mlu\u001b[0m\u001b[0;34m,\u001b[0m \u001b[0mpiv\u001b[0m\u001b[0;34m,\u001b[0m \u001b[0mlwork\u001b[0m\u001b[0;34m=\u001b[0m\u001b[0mlwork\u001b[0m\u001b[0;34m,\u001b[0m \u001b[0moverwrite_lu\u001b[0m\u001b[0;34m=\u001b[0m\u001b[0;36m1\u001b[0m\u001b[0;34m)\u001b[0m\u001b[0;34m\u001b[0m\u001b[0;34m\u001b[0m\u001b[0m\n\u001b[1;32m    962\u001b[0m     \u001b[0;32mif\u001b[0m \u001b[0minfo\u001b[0m \u001b[0;34m>\u001b[0m \u001b[0;36m0\u001b[0m\u001b[0;34m:\u001b[0m\u001b[0;34m\u001b[0m\u001b[0;34m\u001b[0m\u001b[0m\n\u001b[0;32m--> 963\u001b[0;31m         \u001b[0;32mraise\u001b[0m \u001b[0mLinAlgError\u001b[0m\u001b[0;34m(\u001b[0m\u001b[0;34m\"singular matrix\"\u001b[0m\u001b[0;34m)\u001b[0m\u001b[0;34m\u001b[0m\u001b[0;34m\u001b[0m\u001b[0m\n\u001b[0m\u001b[1;32m    964\u001b[0m     \u001b[0;32mif\u001b[0m \u001b[0minfo\u001b[0m \u001b[0;34m<\u001b[0m \u001b[0;36m0\u001b[0m\u001b[0;34m:\u001b[0m\u001b[0;34m\u001b[0m\u001b[0;34m\u001b[0m\u001b[0m\n\u001b[1;32m    965\u001b[0m         raise ValueError('illegal value in %d-th argument of internal '\n",
      "\u001b[0;31mLinAlgError\u001b[0m: singular matrix"
     ]
    }
   ],
   "source": [
    "arr = np.array([[3, 2],\n",
    "                [6, 4]])\n",
    "\n",
    "linalg.inv(arr)  "
   ]
  },
  {
   "cell_type": "markdown",
   "id": "4a66e80f",
   "metadata": {},
   "source": [
    "More advanced operations are available, for example singular-value decomposition (SVD):"
   ]
  },
  {
   "cell_type": "code",
   "execution_count": 16,
   "id": "0d74d846",
   "metadata": {},
   "outputs": [
    {
     "name": "stdout",
     "output_type": "stream",
     "text": [
      "[[1 1 2]\n",
      " [3 4 5]\n",
      " [6 7 9]]\n"
     ]
    }
   ],
   "source": [
    "arr = np.arange(9).reshape((3, 3)) + np.diag([1, 0, 1])\n",
    "\n",
    "print(arr)"
   ]
  },
  {
   "cell_type": "code",
   "execution_count": 17,
   "id": "aa14552c",
   "metadata": {},
   "outputs": [],
   "source": [
    "uarr, spec, vharr = linalg.svd(arr)"
   ]
  },
  {
   "cell_type": "markdown",
   "id": "5675b6c6",
   "metadata": {},
   "source": [
    "The resulting array spectrum is:"
   ]
  },
  {
   "cell_type": "code",
   "execution_count": 18,
   "id": "7108cc34",
   "metadata": {
    "scrolled": true
   },
   "outputs": [
    {
     "data": {
      "text/plain": [
       "array([14.88982544,  0.45294236,  0.29654967])"
      ]
     },
     "execution_count": 18,
     "metadata": {},
     "output_type": "execute_result"
    }
   ],
   "source": [
    "spec"
   ]
  },
  {
   "cell_type": "code",
   "execution_count": 19,
   "id": "b4009243",
   "metadata": {},
   "outputs": [
    {
     "data": {
      "text/plain": [
       "array([[-0.1617463 , -0.98659196,  0.02178164],\n",
       "       [-0.47456365,  0.09711667,  0.87484724],\n",
       "       [-0.86523261,  0.13116653, -0.48390895]])"
      ]
     },
     "execution_count": 19,
     "metadata": {},
     "output_type": "execute_result"
    }
   ],
   "source": [
    "uarr"
   ]
  },
  {
   "cell_type": "code",
   "execution_count": 20,
   "id": "f28ea23d",
   "metadata": {},
   "outputs": [
    {
     "data": {
      "text/plain": [
       "array([[-0.45513179, -0.54511245, -0.70406496],\n",
       "       [ 0.20258033,  0.70658087, -0.67801525],\n",
       "       [-0.86707339,  0.45121601,  0.21115836]])"
      ]
     },
     "execution_count": 20,
     "metadata": {},
     "output_type": "execute_result"
    }
   ],
   "source": [
    "vharr"
   ]
  },
  {
   "cell_type": "markdown",
   "id": "82473115",
   "metadata": {},
   "source": [
    "The original matrix can be re-composed by matrix multiplication of the outputs of svd with np.dot:"
   ]
  },
  {
   "cell_type": "code",
   "execution_count": 21,
   "id": "eeeadbc6",
   "metadata": {},
   "outputs": [
    {
     "data": {
      "text/plain": [
       "True"
      ]
     },
     "execution_count": 21,
     "metadata": {},
     "output_type": "execute_result"
    }
   ],
   "source": [
    "sarr = np.diag(spec)\n",
    "\n",
    "svd_mat = uarr.dot(sarr).dot(vharr)\n",
    "\n",
    "np.allclose(svd_mat, arr)"
   ]
  },
  {
   "cell_type": "markdown",
   "id": "0bd58b2e",
   "metadata": {},
   "source": [
    "SVD is commonly used in statistics and signal processing. Many other standard decompositions (QR, LU, Cholesky, Schur), as well as solvers for linear systems, are available in scipy.linalg."
   ]
  },
  {
   "cell_type": "markdown",
   "id": "a993fb53",
   "metadata": {},
   "source": [
    "Interpolation: scipy.interpolate"
   ]
  },
  {
   "cell_type": "markdown",
   "id": "a7f1cbe0",
   "metadata": {},
   "source": [
    "scipy.interpolate is useful for fitting a function from experimental data and thus evaluating points where no measure exists. The module is based on the FITPACK Fortran subroutines."
   ]
  },
  {
   "cell_type": "markdown",
   "id": "a59bb512",
   "metadata": {},
   "source": [
    "By imagining experimental data close to a sine function:"
   ]
  },
  {
   "cell_type": "code",
   "execution_count": 51,
   "id": "79de1ddf",
   "metadata": {},
   "outputs": [],
   "source": [
    "measured_time = np.linspace(0, 1, 1000)\n",
    "\n",
    "noise = (np.random.random(1000)*2 - 1) * 5e-1\n",
    "\n",
    "measures = np.sin(2 * np.pi * measured_time) + noise"
   ]
  },
  {
   "cell_type": "code",
   "execution_count": 52,
   "id": "45a0f1b3",
   "metadata": {},
   "outputs": [
    {
     "data": {
      "text/plain": [
       "[<matplotlib.lines.Line2D at 0x7fca5e386a50>]"
      ]
     },
     "execution_count": 52,
     "metadata": {},
     "output_type": "execute_result"
    },
    {
     "data": {
      "image/png": "[encoded data removed]",
      "text/plain": [
       "<Figure size 432x288 with 1 Axes>"
      ]
     },
     "metadata": {
      "needs_background": "light"
     },
     "output_type": "display_data"
    }
   ],
   "source": [
    "import matplotlib.pyplot as plt\n",
    "\n",
    "plt.plot(measured_time, measures, '-')"
   ]
  },
  {
   "cell_type": "markdown",
   "id": "60a5fa51",
   "metadata": {},
   "source": [
    "scipy.interpolate.interp1d can build a linear interpolation function:"
   ]
  },
  {
   "cell_type": "code",
   "execution_count": 53,
   "id": "2cd255f4",
   "metadata": {},
   "outputs": [],
   "source": [
    "from scipy.interpolate import interp1d"
   ]
  },
  {
   "cell_type": "code",
   "execution_count": 54,
   "id": "9036ba80",
   "metadata": {},
   "outputs": [],
   "source": [
    "linear_interp = interp1d(measured_time, measures)"
   ]
  },
  {
   "cell_type": "code",
   "execution_count": 55,
   "id": "b949951b",
   "metadata": {},
   "outputs": [
    {
     "data": {
      "text/plain": [
       "<scipy.interpolate.interpolate.interp1d at 0x7fca5e31dbf0>"
      ]
     },
     "execution_count": 55,
     "metadata": {},
     "output_type": "execute_result"
    }
   ],
   "source": [
    "linear_interp"
   ]
  },
  {
   "cell_type": "markdown",
   "id": "c581ea96",
   "metadata": {},
   "source": [
    "Then the result can be evaluated at the time of interest:"
   ]
  },
  {
   "cell_type": "code",
   "execution_count": 56,
   "id": "0b33a98b",
   "metadata": {},
   "outputs": [],
   "source": [
    "interpolation_time = np.linspace(0, 1, 50)\n",
    "\n",
    "linear_results = linear_interp(interpolation_time)"
   ]
  },
  {
   "cell_type": "code",
   "execution_count": 57,
   "id": "3e437bb4",
   "metadata": {},
   "outputs": [
    {
     "data": {
      "text/plain": [
       "[<matplotlib.lines.Line2D at 0x7fca5e3438d0>]"
      ]
     },
     "execution_count": 57,
     "metadata": {},
     "output_type": "execute_result"
    },
    {
     "data": {
      "image/png": "[encoded data removed]",
      "text/plain": [
       "<Figure size 432x288 with 1 Axes>"
      ]
     },
     "metadata": {
      "needs_background": "light"
     },
     "output_type": "display_data"
    }
   ],
   "source": [
    "plt.plot(interpolation_time, linear_results)"
   ]
  },
  {
   "cell_type": "markdown",
   "id": "fc9e0d59",
   "metadata": {},
   "source": [
    "A cubic interpolation can also be selected by providing the kind optional keyword argument:"
   ]
  },
  {
   "cell_type": "code",
   "execution_count": 58,
   "id": "8804d7bf",
   "metadata": {},
   "outputs": [],
   "source": [
    "cubic_interp = interp1d(measured_time, measures, kind='quadratic')\n",
    "\n",
    "cubic_results = cubic_interp(interpolation_time)"
   ]
  },
  {
   "cell_type": "code",
   "execution_count": 43,
   "id": "84359824",
   "metadata": {},
   "outputs": [],
   "source": [
    "interp1d?"
   ]
  },
  {
   "cell_type": "code",
   "execution_count": 59,
   "id": "ab4b6f29",
   "metadata": {},
   "outputs": [
    {
     "data": {
      "text/plain": [
       "[<matplotlib.lines.Line2D at 0x7fca5e306a90>]"
      ]
     },
     "execution_count": 59,
     "metadata": {},
     "output_type": "execute_result"
    },
    {
     "data": {
      "image/png": "[encoded data removed]",
      "text/plain": [
       "<Figure size 432x288 with 1 Axes>"
      ]
     },
     "metadata": {
      "needs_background": "light"
     },
     "output_type": "display_data"
    }
   ],
   "source": [
    "plt.plot(interpolation_time, cubic_results)"
   ]
  },
  {
   "cell_type": "markdown",
   "id": "acf705a1",
   "metadata": {},
   "source": [
    "scipy.interpolate.interp2d is similar to scipy.interpolate.interp1d, but for 2-D arrays. Note that for the interp family, the interpolation points must stay within the range of given data points. See the summary exercise on Maximum wind speed prediction at the Sprogø station for a more advanced spline interpolation example."
   ]
  },
  {
   "cell_type": "markdown",
   "id": "381ecad2",
   "metadata": {},
   "source": [
    "Finding the minimum of a scalar function"
   ]
  },
  {
   "cell_type": "code",
   "execution_count": 60,
   "id": "7b363738",
   "metadata": {},
   "outputs": [],
   "source": [
    "from scipy import optimize"
   ]
  },
  {
   "cell_type": "code",
   "execution_count": 65,
   "id": "1592f68d",
   "metadata": {},
   "outputs": [],
   "source": [
    "def f(x):\n",
    "    return x**2 + 20*np.sin(x)"
   ]
  },
  {
   "cell_type": "code",
   "execution_count": 66,
   "id": "6a7e680a",
   "metadata": {},
   "outputs": [
    {
     "data": {
      "image/png": "[encoded data removed]",
      "text/plain": [
       "<Figure size 432x288 with 1 Axes>"
      ]
     },
     "metadata": {
      "needs_background": "light"
     },
     "output_type": "display_data"
    }
   ],
   "source": [
    "x = np.arange(-10, 10, 0.1)\n",
    "\n",
    "plt.plot(x, f(x)) \n",
    "plt.show() "
   ]
  },
  {
   "cell_type": "markdown",
   "id": "35ce546f",
   "metadata": {},
   "source": [
    "This function has a global minimum around -1.3 and a local minimum around 3.8."
   ]
  },
  {
   "cell_type": "markdown",
   "id": "f935abb4",
   "metadata": {},
   "source": [
    "Searching for minimum can be done with scipy.optimize.minimize(), given a starting point x0, it returns the location of the minimum that it has found:\n",
    "\n",
    "The result of scipy.optimize.minimize() is a compound object comprising all information on the convergence"
   ]
  },
  {
   "cell_type": "code",
   "execution_count": 82,
   "id": "a5c16cb0",
   "metadata": {
    "scrolled": true
   },
   "outputs": [
    {
     "data": {
      "text/plain": [
       "      fun: -17.757256531474148\n",
       " hess_inv: array([[0.04589932]])\n",
       "      jac: array([-2.38418579e-07])\n",
       "  message: 'Optimization terminated successfully.'\n",
       "     nfev: 20\n",
       "      nit: 4\n",
       "     njev: 10\n",
       "   status: 0\n",
       "  success: True\n",
       "        x: array([-1.4275518])"
      ]
     },
     "execution_count": 82,
     "metadata": {},
     "output_type": "execute_result"
    }
   ],
   "source": [
    "result = optimize.minimize(f, x0=-10)\n",
    "\n",
    "result "
   ]
  },
  {
   "cell_type": "code",
   "execution_count": 83,
   "id": "d9d80d12",
   "metadata": {},
   "outputs": [],
   "source": [
    "optimize.minimize?"
   ]
  },
  {
   "cell_type": "code",
   "execution_count": 29,
   "id": "5ed13f90",
   "metadata": {},
   "outputs": [
    {
     "data": {
      "text/plain": [
       "array([-1.30644012])"
      ]
     },
     "execution_count": 29,
     "metadata": {},
     "output_type": "execute_result"
    }
   ],
   "source": [
    "result.x"
   ]
  },
  {
   "cell_type": "markdown",
   "id": "0caf4928",
   "metadata": {},
   "source": [
    "Methods: As the function is a smooth function, gradient-descent based methods are good options. The lBFGS algorithm is a good choice in general:"
   ]
  },
  {
   "cell_type": "code",
   "execution_count": 87,
   "id": "7bf554a2",
   "metadata": {},
   "outputs": [
    {
     "data": {
      "text/plain": [
       "      fun: array([-17.75725653])\n",
       " hess_inv: <1x1 LbfgsInvHessProduct with dtype=float64>\n",
       "      jac: array([0.])\n",
       "  message: 'CONVERGENCE: NORM_OF_PROJECTED_GRADIENT_<=_PGTOL'\n",
       "     nfev: 22\n",
       "      nit: 5\n",
       "     njev: 11\n",
       "   status: 0\n",
       "  success: True\n",
       "        x: array([-1.42755178])"
      ]
     },
     "execution_count": 87,
     "metadata": {},
     "output_type": "execute_result"
    }
   ],
   "source": [
    "optimize.minimize(f, x0=-10, method=\"L-BFGS-B\")"
   ]
  },
  {
   "cell_type": "markdown",
   "id": "745dfedf",
   "metadata": {},
   "source": [
    "Global minimum: A possible issue with this approach is that, if the function has local minima, the algorithm may find these local minima instead of the global minimum depending on the initial point x0:"
   ]
  },
  {
   "cell_type": "code",
   "execution_count": 31,
   "id": "99642a9b",
   "metadata": {},
   "outputs": [
    {
     "data": {
      "text/plain": [
       "array([3.83746709])"
      ]
     },
     "execution_count": 31,
     "metadata": {},
     "output_type": "execute_result"
    }
   ],
   "source": [
    "res = optimize.minimize(f, x0=3, method=\"L-BFGS-B\")\n",
    "\n",
    "res.x"
   ]
  },
  {
   "cell_type": "markdown",
   "id": "3bd295b4",
   "metadata": {},
   "source": [
    "If we don’t know the neighborhood of the global minimum to choose the initial point, we need to resort to costlier global optimization. To find the global minimum, we use scipy.optimize.basinhopping() (added in version 0.12.0 of Scipy). It combines a local optimizer with sampling of starting points:"
   ]
  },
  {
   "cell_type": "code",
   "execution_count": 91,
   "id": "2eaffe92",
   "metadata": {},
   "outputs": [
    {
     "data": {
      "text/plain": [
       "                        fun: 0.15825752683178962\n",
       " lowest_optimization_result:       fun: 0.15825752683178962\n",
       " hess_inv: array([[0.04977326]])\n",
       "      jac: array([2.38418579e-07])\n",
       "  message: 'Optimization terminated successfully.'\n",
       "     nfev: 12\n",
       "      nit: 4\n",
       "     njev: 6\n",
       "   status: 0\n",
       "  success: True\n",
       "        x: array([4.27109533])\n",
       "                    message: ['requested number of basinhopping iterations completed successfully']\n",
       "      minimization_failures: 0\n",
       "                       nfev: 1120\n",
       "                        nit: 100\n",
       "                       njev: 560\n",
       "                          x: array([4.27109533])"
      ]
     },
     "execution_count": 91,
     "metadata": {},
     "output_type": "execute_result"
    }
   ],
   "source": [
    "optimize.basinhopping(f, 7.5)"
   ]
  },
  {
   "cell_type": "markdown",
   "id": "cbc3606f",
   "metadata": {},
   "source": [
    "Finding the roots of a scalar function"
   ]
  },
  {
   "cell_type": "markdown",
   "id": "8be84945",
   "metadata": {},
   "source": [
    "To find a root, i.e. a point where f(x) = 0, of the function f above we can use scipy.optimize.root():"
   ]
  },
  {
   "cell_type": "code",
   "execution_count": 93,
   "id": "68fd3d36",
   "metadata": {},
   "outputs": [
    {
     "data": {
      "text/plain": [
       "    fjac: array([[-1.]])\n",
       "     fun: array([35.82274458])\n",
       " message: 'The iteration is not making good progress, as measured by the \\n  improvement from the last ten iterations.'\n",
       "    nfev: 23\n",
       "     qtf: array([-35.82274458])\n",
       "       r: array([0.00702161])\n",
       "  status: 5\n",
       " success: False\n",
       "       x: array([-7.06785375])"
      ]
     },
     "execution_count": 93,
     "metadata": {},
     "output_type": "execute_result"
    }
   ],
   "source": [
    "root = optimize.root(f, x0=-10)  # our initial guess is 1\n",
    "\n",
    "root    # The full result"
   ]
  },
  {
   "cell_type": "code",
   "execution_count": 34,
   "id": "olympic-stage",
   "metadata": {},
   "outputs": [
    {
     "data": {
      "text/plain": [
       "array([0.])"
      ]
     },
     "execution_count": 34,
     "metadata": {},
     "output_type": "execute_result"
    }
   ],
   "source": [
    "root.x  # Only the root found"
   ]
  },
  {
   "cell_type": "markdown",
   "id": "341db01b",
   "metadata": {},
   "source": [
    "Note that only one root is found. Inspecting the plot of f reveals that there is a second root around -2.5. We find the exact value of it by adjusting our initial guess:"
   ]
  },
  {
   "cell_type": "code",
   "execution_count": 35,
   "id": "d359bab6",
   "metadata": {},
   "outputs": [
    {
     "data": {
      "text/plain": [
       "array([-2.47948183])"
      ]
     },
     "execution_count": 35,
     "metadata": {},
     "output_type": "execute_result"
    }
   ],
   "source": [
    "root2 = optimize.root(f, x0=-2.5)\n",
    "\n",
    "root2.x"
   ]
  },
  {
   "cell_type": "markdown",
   "id": "0ec8c214",
   "metadata": {},
   "source": [
    "Function integrals"
   ]
  },
  {
   "cell_type": "markdown",
   "id": "40d5a339",
   "metadata": {},
   "source": [
    "The most generic integration routine is scipy.integrate.quad(). To compute \\int_0^{\\pi / 2} sin(t) dt:"
   ]
  },
  {
   "cell_type": "code",
   "execution_count": 95,
   "id": "e5f1404d",
   "metadata": {},
   "outputs": [],
   "source": [
    "from scipy.integrate import quad"
   ]
  },
  {
   "cell_type": "code",
   "execution_count": 96,
   "id": "88b1f93d",
   "metadata": {},
   "outputs": [
    {
     "data": {
      "text/plain": [
       "True"
      ]
     },
     "execution_count": 96,
     "metadata": {},
     "output_type": "execute_result"
    }
   ],
   "source": [
    "res, err = quad(np.sin, 0, np.pi/2)\n",
    "\n",
    "np.allclose(res, 1)   # res is the result, is should be close to 1\n",
    "np.allclose(err, 1 - res)  # err is an estimate of the err"
   ]
  },
  {
   "cell_type": "markdown",
   "id": "3b2ff672",
   "metadata": {},
   "source": [
    "Other integration schemes are available: scipy.integrate.fixed_quad(), scipy.integrate.quadrature(), scipy.integrate.romberg()…"
   ]
  },
  {
   "cell_type": "markdown",
   "id": "a60e93be",
   "metadata": {},
   "source": [
    "The simple conjugate gradient method can be used by setting the parameter method to CG"
   ]
  },
  {
   "cell_type": "code",
   "execution_count": 97,
   "id": "4f41ec63",
   "metadata": {},
   "outputs": [],
   "source": [
    "def f(x):   # The rosenbrock function\n",
    "    return .5*(1 - x[0])**2 + (x[1] - x[0]**2)**2"
   ]
  },
  {
   "cell_type": "code",
   "execution_count": 98,
   "id": "e88f2d48",
   "metadata": {},
   "outputs": [
    {
     "data": {
      "text/plain": [
       "     fun: 1.6503729082243953e-11\n",
       "     jac: array([-6.15347610e-06,  2.53804028e-07])\n",
       " message: 'Optimization terminated successfully.'\n",
       "    nfev: 81\n",
       "     nit: 13\n",
       "    njev: 27\n",
       "  status: 0\n",
       " success: True\n",
       "       x: array([0.99999426, 0.99998863])"
      ]
     },
     "execution_count": 98,
     "metadata": {},
     "output_type": "execute_result"
    }
   ],
   "source": [
    "optimize.minimize(f, [2, -1], method=\"CG\")"
   ]
  },
  {
   "cell_type": "markdown",
   "id": "464d499a",
   "metadata": {},
   "source": [
    "Gradient methods need the Jacobian (gradient) of the function. They can compute it numerically, but will perform better if you can pass them the gradient:"
   ]
  },
  {
   "cell_type": "code",
   "execution_count": 99,
   "id": "funded-slovenia",
   "metadata": {},
   "outputs": [],
   "source": [
    "def jacobian(x):\n",
    "    return np.array((-2*.5*(1 - x[0]) - 4*x[0]*(x[1] - x[0]**2), 2*(x[1] - x[0]**2)))"
   ]
  },
  {
   "cell_type": "code",
   "execution_count": 100,
   "id": "processed-extent",
   "metadata": {},
   "outputs": [
    {
     "data": {
      "text/plain": [
       "     fun: 2.957865890641887e-14\n",
       "     jac: array([ 7.18259502e-07, -2.99030306e-07])\n",
       " message: 'Optimization terminated successfully.'\n",
       "    nfev: 16\n",
       "     nit: 8\n",
       "    njev: 16\n",
       "  status: 0\n",
       " success: True\n",
       "       x: array([1.00000012, 1.00000009])"
      ]
     },
     "execution_count": 100,
     "metadata": {},
     "output_type": "execute_result"
    }
   ],
   "source": [
    "optimize.minimize(f, [2, 1], method=\"CG\", jac=jacobian)    "
   ]
  },
  {
   "cell_type": "markdown",
   "id": "545d3ca4",
   "metadata": {},
   "source": [
    "Note that the function has only been evaluated 27 times, compared to 108 without the gradient."
   ]
  },
  {
   "cell_type": "markdown",
   "id": "53daea04",
   "metadata": {},
   "source": [
    "In scipy, you can use the Newton method by setting method to Newton-CG in scipy.optimize.minimize(). Here, CG refers to the fact that an internal inversion of the Hessian is performed by conjugate gradient\n"
   ]
  },
  {
   "cell_type": "code",
   "execution_count": 42,
   "id": "66676021",
   "metadata": {},
   "outputs": [],
   "source": [
    "def f(x):   # The rosenbrock function\n",
    "    return .5*(1 - x[0])**2 + (x[1] - x[0]**2)**2"
   ]
  },
  {
   "cell_type": "code",
   "execution_count": 43,
   "id": "304bcc06",
   "metadata": {},
   "outputs": [],
   "source": [
    "def jacobian(x):\n",
    "    return np.array((-2*.5*(1 - x[0]) - 4*x[0]*(x[1] - x[0]**2), 2*(x[1] - x[0]**2)))"
   ]
  },
  {
   "cell_type": "code",
   "execution_count": 44,
   "id": "332ee842",
   "metadata": {},
   "outputs": [
    {
     "data": {
      "text/plain": [
       "     fun: 1.5601357400786612e-15\n",
       "     jac: array([ 1.05753092e-07, -7.48325277e-08])\n",
       " message: 'Optimization terminated successfully.'\n",
       "    nfev: 11\n",
       "    nhev: 0\n",
       "     nit: 10\n",
       "    njev: 33\n",
       "  status: 0\n",
       " success: True\n",
       "       x: array([0.99999995, 0.99999988])"
      ]
     },
     "execution_count": 44,
     "metadata": {},
     "output_type": "execute_result"
    }
   ],
   "source": [
    "optimize.minimize(f, [2,-1], method=\"Newton-CG\", jac=jacobian)"
   ]
  },
  {
   "cell_type": "markdown",
   "id": "92e6df4e",
   "metadata": {},
   "source": [
    "Note that compared to a conjugate gradient (above), Newton’s method has required less function evaluations, but more gradient evaluations, as it uses it to approximate the Hessian. Let’s compute the Hessian and pass it to the algorithm:"
   ]
  },
  {
   "cell_type": "code",
   "execution_count": 45,
   "id": "b523af24",
   "metadata": {},
   "outputs": [],
   "source": [
    "def hessian(x):\n",
    "    return np.array(((1 - 4*x[1] + 12*x[0]**2, -4*x[0]), (-4*x[0], 2)))"
   ]
  },
  {
   "cell_type": "code",
   "execution_count": 46,
   "id": "f59b6ced",
   "metadata": {},
   "outputs": [
    {
     "data": {
      "text/plain": [
       "     fun: 1.6277298383706738e-15\n",
       "     jac: array([ 1.11044158e-07, -7.78093352e-08])\n",
       " message: 'Optimization terminated successfully.'\n",
       "    nfev: 11\n",
       "    nhev: 10\n",
       "     nit: 10\n",
       "    njev: 11\n",
       "  status: 0\n",
       " success: True\n",
       "       x: array([0.99999994, 0.99999988])"
      ]
     },
     "execution_count": 46,
     "metadata": {},
     "output_type": "execute_result"
    }
   ],
   "source": [
    "optimize.minimize(f, [2,-1], method=\"Newton-CG\", jac=jacobian, hess=hessian)    "
   ]
  },
  {
   "cell_type": "markdown",
   "id": "be5b5350",
   "metadata": {},
   "source": [
    "Brute force: a grid search"
   ]
  },
  {
   "cell_type": "markdown",
   "id": "97390b99",
   "metadata": {},
   "source": [
    "scipy.optimize.brute() evaluates the function on a given grid of parameters and returns the parameters corresponding to the minimum value. The parameters are specified with ranges given to numpy.mgrid. By default, 20 steps are taken in each direction:"
   ]
  },
  {
   "cell_type": "code",
   "execution_count": 47,
   "id": "99596e03",
   "metadata": {},
   "outputs": [],
   "source": [
    "def f(x):   # The rosenbrock function\n",
    "    return .5*(1 - x[0])**2 + (x[1] - x[0]**2)**2"
   ]
  },
  {
   "cell_type": "code",
   "execution_count": 48,
   "id": "9c6ed006",
   "metadata": {},
   "outputs": [
    {
     "data": {
      "text/plain": [
       "array([1.00001462, 1.00001547])"
      ]
     },
     "execution_count": 48,
     "metadata": {},
     "output_type": "execute_result"
    }
   ],
   "source": [
    "optimize.brute(f, ((-1, 2), (-1, 2)))"
   ]
  }
 ],
 "metadata": {
  "kernelspec": {
   "display_name": "Python 3",
   "language": "python",
   "name": "python3"
  },
  "language_info": {
   "codemirror_mode": {
    "name": "ipython",
    "version": 3
   },
   "file_extension": ".py",
   "mimetype": "text/x-python",
   "name": "python",
   "nbconvert_exporter": "python",
   "pygments_lexer": "ipython3",
   "version": "3.7.4"
  }
 },
 "nbformat": 4,
 "nbformat_minor": 5
}
