{
 "cells": [
  {
   "cell_type": "markdown",
   "id": "appointed-ideal",
   "metadata": {},
   "source": [
    "### Assignement operators"
   ]
  },
  {
   "cell_type": "markdown",
   "id": "prescribed-label",
   "metadata": {},
   "source": [
    "Python library reference says:\n",
    "\n",
    "> Assignment statements are used to (re)bind names to values and to modify attributes or items of mutable objects.\n",
    "\n",
    "In short, it works as follows (simple assignment):\n",
    "\n",
    "> An expression on the right hand side is evaluated, the corresponding object is created/obtained a name on the left hand side is assigned, or bound, to the r.h.s. object."
   ]
  },
  {
   "cell_type": "markdown",
   "id": "included-coffee",
   "metadata": {},
   "source": [
    "A single object can have several names bound to it:"
   ]
  },
  {
   "cell_type": "code",
   "execution_count": 12,
   "id": "amino-hammer",
   "metadata": {},
   "outputs": [
    {
     "name": "stdout",
     "output_type": "stream",
     "text": [
      "a = [1, 2, 3]\n",
      "b = [1, 2, 3]\n"
     ]
    }
   ],
   "source": [
    "a = [1, 2, 3]\n",
    "b = a\n",
    "\n",
    "print('a =', a)\n",
    "print('b =', b)"
   ]
  },
  {
   "cell_type": "code",
   "execution_count": 10,
   "id": "ancient-cooling",
   "metadata": {},
   "outputs": [
    {
     "name": "stdout",
     "output_type": "stream",
     "text": [
      "True\n"
     ]
    }
   ],
   "source": [
    "print(a is b)"
   ]
  },
  {
   "cell_type": "code",
   "execution_count": 11,
   "id": "earned-liberia",
   "metadata": {},
   "outputs": [
    {
     "name": "stdout",
     "output_type": "stream",
     "text": [
      "a = [1, 'hi!', 3]\n",
      "b = [1, 'hi!', 3]\n"
     ]
    }
   ],
   "source": [
    "b[1] = 'hi!'\n",
    "\n",
    "print('a =', a)\n",
    "print('b =', b)"
   ]
  },
  {
   "cell_type": "markdown",
   "id": "resident-irrigation",
   "metadata": {},
   "source": [
    "To change a list in place, use indexing/slices:"
   ]
  },
  {
   "cell_type": "code",
   "execution_count": 15,
   "id": "female-inspiration",
   "metadata": {},
   "outputs": [
    {
     "name": "stdout",
     "output_type": "stream",
     "text": [
      "[1, 2, 3]\n",
      "139818814707504\n"
     ]
    }
   ],
   "source": [
    "a = [1, 2, 3]\n",
    "\n",
    "print(a)\n",
    "print(id(a))"
   ]
  },
  {
   "cell_type": "markdown",
   "id": "representative-nevada",
   "metadata": {},
   "source": [
    "Creates another object:"
   ]
  },
  {
   "cell_type": "code",
   "execution_count": 17,
   "id": "colored-georgia",
   "metadata": {},
   "outputs": [
    {
     "name": "stdout",
     "output_type": "stream",
     "text": [
      "a = ['a', 'b', 'c']\n",
      "139818771611312\n"
     ]
    }
   ],
   "source": [
    "a = ['a', 'b', 'c']\n",
    "\n",
    "print('a =', a)\n",
    "print(id(a))"
   ]
  },
  {
   "cell_type": "markdown",
   "id": "novel-rocket",
   "metadata": {},
   "source": [
    "Modifies object in place:"
   ]
  },
  {
   "cell_type": "code",
   "execution_count": 18,
   "id": "focused-preservation",
   "metadata": {},
   "outputs": [
    {
     "name": "stdout",
     "output_type": "stream",
     "text": [
      "a = [1, 2, 3]\n",
      "139818771611312\n"
     ]
    }
   ],
   "source": [
    "a[:] = [1, 2, 3] \n",
    "\n",
    "print('a =', a)\n",
    "print(id(a))"
   ]
  },
  {
   "cell_type": "markdown",
   "id": "stone-veteran",
   "metadata": {},
   "source": [
    "The key concept here is mutable vs. immutable:\n",
    "\n",
    "> Mutable objects can be changed in place; immutable objects cannot be modified once created."
   ]
  },
  {
   "cell_type": "markdown",
   "id": "actual-advance",
   "metadata": {
    "colab_type": "text",
    "id": "p-6hClFjL9fk"
   },
   "source": [
    "### Containers"
   ]
  },
  {
   "cell_type": "markdown",
   "id": "unsigned-match",
   "metadata": {
    "colab_type": "text",
    "id": "FD9H18eQL9fk"
   },
   "source": [
    "Python includes several built-in container types: lists, dictionaries, sets, and tuples."
   ]
  },
  {
   "cell_type": "markdown",
   "id": "proprietary-engine",
   "metadata": {
    "colab_type": "text",
    "id": "UsIWOe0LL9fn"
   },
   "source": [
    "#### Lists"
   ]
  },
  {
   "cell_type": "markdown",
   "id": "allied-former",
   "metadata": {
    "colab_type": "text",
    "id": "wzxX7rgWL9fn"
   },
   "source": [
    "A list is the Python equivalent of an array, but is resizeable and can contain elements of different types:"
   ]
  },
  {
   "cell_type": "markdown",
   "id": "numerous-kenya",
   "metadata": {},
   "source": [
    "Negative indices count from the end of the list; prints \"2\":"
   ]
  },
  {
   "cell_type": "code",
   "execution_count": 19,
   "id": "hollywood-council",
   "metadata": {
    "colab": {
     "base_uri": "https://localhost:8080/",
     "height": 52
    },
    "colab_type": "code",
    "id": "hk3A8pPcL9fp",
    "outputId": "b545939a-580c-4356-db95-7ad3670b46e4"
   },
   "outputs": [
    {
     "name": "stdout",
     "output_type": "stream",
     "text": [
      "[3, 1, 2] 2\n",
      "2\n"
     ]
    }
   ],
   "source": [
    "xs = [3, 1, 2]\n",
    "print(xs, xs[2])\n",
    "print(xs[-1])"
   ]
  },
  {
   "cell_type": "markdown",
   "id": "exact-trading",
   "metadata": {},
   "source": [
    "Lists can contain elements of different types:"
   ]
  },
  {
   "cell_type": "code",
   "execution_count": 20,
   "id": "toxic-lover",
   "metadata": {
    "colab": {
     "base_uri": "https://localhost:8080/",
     "height": 34
    },
    "colab_type": "code",
    "id": "YCjCy_0_L9ft",
    "outputId": "417c54ff-170b-4372-9099-0f756f8e48af"
   },
   "outputs": [
    {
     "name": "stdout",
     "output_type": "stream",
     "text": [
      "[3, 1, 'foo']\n"
     ]
    }
   ],
   "source": [
    "xs[2] = 'foo'\n",
    "print(xs)"
   ]
  },
  {
   "cell_type": "markdown",
   "id": "reflected-harvard",
   "metadata": {},
   "source": [
    "Add a new element to the end of the list:"
   ]
  },
  {
   "cell_type": "code",
   "execution_count": 21,
   "id": "alike-constraint",
   "metadata": {
    "colab": {
     "base_uri": "https://localhost:8080/",
     "height": 34
    },
    "colab_type": "code",
    "id": "vJ0x5cF-L9fx",
    "outputId": "a97731a3-70e1-4553-d9e0-2aea227cac80"
   },
   "outputs": [
    {
     "name": "stdout",
     "output_type": "stream",
     "text": [
      "[3, 1, 'foo', 'bar']\n"
     ]
    }
   ],
   "source": [
    "xs.append('bar')\n",
    "print(xs)  "
   ]
  },
  {
   "cell_type": "markdown",
   "id": "pediatric-lingerie",
   "metadata": {},
   "source": [
    "Remove and return the last element of the list:"
   ]
  },
  {
   "cell_type": "code",
   "execution_count": 22,
   "id": "elect-nevada",
   "metadata": {
    "colab": {
     "base_uri": "https://localhost:8080/",
     "height": 34
    },
    "colab_type": "code",
    "id": "cxVCNRTNL9f1",
    "outputId": "508fbe59-20aa-48b5-a1b2-f90363e7a104"
   },
   "outputs": [
    {
     "name": "stdout",
     "output_type": "stream",
     "text": [
      "bar [3, 1, 'foo']\n"
     ]
    }
   ],
   "source": [
    "x = xs.pop()\n",
    "print(x, xs)"
   ]
  },
  {
   "cell_type": "markdown",
   "id": "actual-workshop",
   "metadata": {
    "colab_type": "text",
    "id": "ilyoyO34L9f4"
   },
   "source": [
    "As usual, you can find all details about lists in the [documentation](https://docs.python.org/3.7/tutorial/datastructures.html#more-on-lists)."
   ]
  },
  {
   "cell_type": "markdown",
   "id": "aerial-brain",
   "metadata": {
    "colab_type": "text",
    "id": "ovahhxd_L9f5"
   },
   "source": [
    "#### Slicing"
   ]
  },
  {
   "cell_type": "markdown",
   "id": "streaming-repository",
   "metadata": {
    "colab_type": "text",
    "id": "YeSYKhv9L9f6"
   },
   "source": [
    "In addition to accessing list elements one at a time, Python provides concise syntax to access sublists; this is known as slicing:"
   ]
  },
  {
   "cell_type": "markdown",
   "id": "theoretical-grill",
   "metadata": {},
   "source": [
    "`range` is a built-in function that creates a list of integers:"
   ]
  },
  {
   "cell_type": "code",
   "execution_count": 23,
   "id": "everyday-jacksonville",
   "metadata": {
    "colab": {
     "base_uri": "https://localhost:8080/",
     "height": 139
    },
    "colab_type": "code",
    "id": "ninq666bL9f6",
    "outputId": "c3c2ed92-7358-4fdb-bbc0-e90f82e7e941"
   },
   "outputs": [
    {
     "name": "stdout",
     "output_type": "stream",
     "text": [
      "[0, 1, 2, 3, 4]\n"
     ]
    }
   ],
   "source": [
    "nums = list(range(5))\n",
    "print(nums)"
   ]
  },
  {
   "cell_type": "markdown",
   "id": "robust-mortgage",
   "metadata": {},
   "source": [
    "Get a slice from index 2 to 4 (exclusive); prints \"[2, 3]\""
   ]
  },
  {
   "cell_type": "code",
   "execution_count": null,
   "id": "understood-ivory",
   "metadata": {},
   "outputs": [],
   "source": [
    "print(nums[2:4])"
   ]
  },
  {
   "cell_type": "markdown",
   "id": "available-capital",
   "metadata": {},
   "source": [
    "Get a slice from index 2 to the end; prints \"[2, 3, 4]\""
   ]
  },
  {
   "cell_type": "code",
   "execution_count": 24,
   "id": "amber-discrimination",
   "metadata": {},
   "outputs": [
    {
     "name": "stdout",
     "output_type": "stream",
     "text": [
      "[2, 3, 4]\n"
     ]
    }
   ],
   "source": [
    "print(nums[2:])"
   ]
  },
  {
   "cell_type": "markdown",
   "id": "excess-plant",
   "metadata": {},
   "source": [
    "Get a slice from the start to index 2 (exclusive); prints \"[0, 1]\""
   ]
  },
  {
   "cell_type": "code",
   "execution_count": 25,
   "id": "incomplete-playing",
   "metadata": {},
   "outputs": [
    {
     "name": "stdout",
     "output_type": "stream",
     "text": [
      "[0, 1]\n"
     ]
    }
   ],
   "source": [
    "print(nums[:2])"
   ]
  },
  {
   "cell_type": "markdown",
   "id": "seeing-infrared",
   "metadata": {},
   "source": [
    "Get a slice of the whole list; prints [\"0, 1, 2, 3, 4]\""
   ]
  },
  {
   "cell_type": "code",
   "execution_count": 26,
   "id": "alone-rhythm",
   "metadata": {},
   "outputs": [
    {
     "name": "stdout",
     "output_type": "stream",
     "text": [
      "[0, 1, 2, 3, 4]\n"
     ]
    }
   ],
   "source": [
    "print(nums[:])"
   ]
  },
  {
   "cell_type": "markdown",
   "id": "tracked-doubt",
   "metadata": {},
   "source": [
    "Slice indices can be negative; prints [\"0, 1, 2, 3]\""
   ]
  },
  {
   "cell_type": "code",
   "execution_count": 27,
   "id": "mounted-spank",
   "metadata": {},
   "outputs": [
    {
     "name": "stdout",
     "output_type": "stream",
     "text": [
      "[0, 1, 2, 3]\n"
     ]
    }
   ],
   "source": [
    "print(nums[:-1])"
   ]
  },
  {
   "cell_type": "markdown",
   "id": "another-dress",
   "metadata": {},
   "source": [
    "Assign a new sublist to a slice"
   ]
  },
  {
   "cell_type": "code",
   "execution_count": 28,
   "id": "valid-monroe",
   "metadata": {},
   "outputs": [
    {
     "name": "stdout",
     "output_type": "stream",
     "text": [
      "[0, 1, 8, 9, 4]\n"
     ]
    }
   ],
   "source": [
    "nums[2:4] = [8, 9]\n",
    "print(nums)"
   ]
  },
  {
   "cell_type": "markdown",
   "id": "emerging-identity",
   "metadata": {},
   "source": [
    "Print the list in reverse order"
   ]
  },
  {
   "cell_type": "code",
   "execution_count": 30,
   "id": "sharing-blank",
   "metadata": {},
   "outputs": [
    {
     "name": "stdout",
     "output_type": "stream",
     "text": [
      "[4, 9, 8, 1, 0]\n"
     ]
    }
   ],
   "source": [
    "print(nums[::-1])"
   ]
  },
  {
   "cell_type": "markdown",
   "id": "accompanied-tiger",
   "metadata": {
    "colab_type": "text",
    "id": "UONpMhF4L9f_"
   },
   "source": [
    "#### Loops"
   ]
  },
  {
   "cell_type": "markdown",
   "id": "applied-assignment",
   "metadata": {
    "colab_type": "text",
    "id": "_DYz1j6QL9f_"
   },
   "source": [
    "You can loop over the elements of a list like this:"
   ]
  },
  {
   "cell_type": "code",
   "execution_count": 19,
   "id": "dependent-place",
   "metadata": {
    "colab": {
     "base_uri": "https://localhost:8080/",
     "height": 69
    },
    "colab_type": "code",
    "id": "4cCOysfWL9gA",
    "outputId": "560e46c7-279c-409a-838c-64bea8d321c4"
   },
   "outputs": [
    {
     "name": "stdout",
     "output_type": "stream",
     "text": [
      "cat\n",
      "dog\n",
      "monkey\n"
     ]
    }
   ],
   "source": [
    "animals = ['cat', 'dog', 'monkey']\n",
    "for animal in animals:\n",
    "    print(animal)"
   ]
  },
  {
   "cell_type": "markdown",
   "id": "aware-figure",
   "metadata": {
    "colab_type": "text",
    "id": "KxIaQs7pL9gE"
   },
   "source": [
    "If you want access to the index of each element within the body of a loop, use the built-in `enumerate` function:"
   ]
  },
  {
   "cell_type": "code",
   "execution_count": 20,
   "id": "natural-aspect",
   "metadata": {
    "colab": {
     "base_uri": "https://localhost:8080/",
     "height": 69
    },
    "colab_type": "code",
    "id": "JjGnDluWL9gF",
    "outputId": "81421905-17ea-4c5a-bcc0-176de19fd9bd"
   },
   "outputs": [
    {
     "name": "stdout",
     "output_type": "stream",
     "text": [
      "#1: cat\n",
      "#2: dog\n",
      "#3: monkey\n"
     ]
    }
   ],
   "source": [
    "animals = ['cat', 'dog', 'monkey']\n",
    "for idx, animal in enumerate(animals):\n",
    "    print('#{}: {}'.format(idx + 1, animal))"
   ]
  },
  {
   "cell_type": "markdown",
   "id": "junior-tourism",
   "metadata": {
    "colab_type": "text",
    "id": "arrLCcMyL9gK"
   },
   "source": [
    "#### List comprehensions"
   ]
  },
  {
   "cell_type": "markdown",
   "id": "included-prospect",
   "metadata": {
    "colab_type": "text",
    "id": "5Qn2jU_pL9gL"
   },
   "source": [
    "When programming, frequently we want to transform one type of data into another. As a simple example, consider the following code that computes square numbers:"
   ]
  },
  {
   "cell_type": "code",
   "execution_count": 21,
   "id": "present-rachel",
   "metadata": {
    "colab": {
     "base_uri": "https://localhost:8080/",
     "height": 34
    },
    "colab_type": "code",
    "id": "IVNEwoMXL9gL",
    "outputId": "d571445b-055d-45f0-f800-24fd76ceec5a"
   },
   "outputs": [
    {
     "name": "stdout",
     "output_type": "stream",
     "text": [
      "[0, 1, 4, 9, 16]\n"
     ]
    }
   ],
   "source": [
    "nums = [0, 1, 2, 3, 4]\n",
    "squares = []\n",
    "for x in nums:\n",
    "    squares.append(x ** 2)\n",
    "print(squares)"
   ]
  },
  {
   "cell_type": "markdown",
   "id": "employed-candle",
   "metadata": {
    "colab_type": "text",
    "id": "7DmKVUFaL9gQ"
   },
   "source": [
    "You can make this code simpler using a list comprehension:"
   ]
  },
  {
   "cell_type": "code",
   "execution_count": 22,
   "id": "compound-young",
   "metadata": {
    "colab": {
     "base_uri": "https://localhost:8080/",
     "height": 34
    },
    "colab_type": "code",
    "id": "kZxsUfV6L9gR",
    "outputId": "4254a7d4-58ba-4f70-a963-20c46b485b72"
   },
   "outputs": [
    {
     "name": "stdout",
     "output_type": "stream",
     "text": [
      "[0, 1, 4, 9, 16]\n"
     ]
    }
   ],
   "source": [
    "nums = [0, 1, 2, 3, 4]\n",
    "squares = [x ** 2 for x in nums]\n",
    "print(squares)"
   ]
  },
  {
   "cell_type": "markdown",
   "id": "champion-plain",
   "metadata": {
    "colab_type": "text",
    "id": "-D8ARK7tL9gV"
   },
   "source": [
    "List comprehension can also contain conditions:"
   ]
  },
  {
   "cell_type": "code",
   "execution_count": 23,
   "id": "adjusted-macro",
   "metadata": {
    "colab": {
     "base_uri": "https://localhost:8080/",
     "height": 34
    },
    "colab_type": "code",
    "id": "yUtgOyyYL9gV",
    "outputId": "1ae7ab58-8119-44dc-8e57-fda09197d026"
   },
   "outputs": [
    {
     "name": "stdout",
     "output_type": "stream",
     "text": [
      "[0, 4, 16]\n"
     ]
    }
   ],
   "source": [
    "nums = [0, 1, 2, 3, 4]\n",
    "even_squares = [x ** 2 for x in nums if x % 2 == 0]\n",
    "print(even_squares)"
   ]
  },
  {
   "cell_type": "markdown",
   "id": "purple-implement",
   "metadata": {
    "colab_type": "text",
    "id": "H8xsUEFpL9gZ"
   },
   "source": [
    "#### Dictionaries"
   ]
  },
  {
   "cell_type": "markdown",
   "id": "placed-leader",
   "metadata": {
    "colab_type": "text",
    "id": "kkjAGMAJL9ga"
   },
   "source": [
    "A dictionary stores (key, value) pairs. You can use it like this:"
   ]
  },
  {
   "cell_type": "markdown",
   "id": "lyric-trade",
   "metadata": {},
   "source": [
    "Create a new dictionary with some data:"
   ]
  },
  {
   "cell_type": "code",
   "execution_count": 32,
   "id": "ranging-protein",
   "metadata": {
    "colab": {
     "base_uri": "https://localhost:8080/",
     "height": 52
    },
    "colab_type": "code",
    "id": "XBYI1MrYL9gb",
    "outputId": "8e24c1da-0fc0-4b4c-a3e6-6f758a53b7da"
   },
   "outputs": [],
   "source": [
    "d = {'cat': 'cute', 'dog': 'furry'}"
   ]
  },
  {
   "cell_type": "markdown",
   "id": "robust-inside",
   "metadata": {},
   "source": [
    "Get an entry from a dictionary; prints \"cute\"."
   ]
  },
  {
   "cell_type": "code",
   "execution_count": 33,
   "id": "selected-cooper",
   "metadata": {},
   "outputs": [
    {
     "name": "stdout",
     "output_type": "stream",
     "text": [
      "cute\n"
     ]
    }
   ],
   "source": [
    "print(d['cat'])"
   ]
  },
  {
   "cell_type": "markdown",
   "id": "possible-nursing",
   "metadata": {},
   "source": [
    "Check if a dictionary has a given key; prints \"True\"."
   ]
  },
  {
   "cell_type": "code",
   "execution_count": 34,
   "id": "following-oxford",
   "metadata": {},
   "outputs": [
    {
     "name": "stdout",
     "output_type": "stream",
     "text": [
      "True\n"
     ]
    }
   ],
   "source": [
    "print('cat' in d)"
   ]
  },
  {
   "cell_type": "markdown",
   "id": "dense-dayton",
   "metadata": {},
   "source": [
    "Set an entry in a dictionary:"
   ]
  },
  {
   "cell_type": "code",
   "execution_count": 35,
   "id": "brief-crisis",
   "metadata": {
    "colab": {
     "base_uri": "https://localhost:8080/",
     "height": 34
    },
    "colab_type": "code",
    "id": "pS7e-G-HL9gf",
    "outputId": "feb4bf18-c0a3-42a2-eaf5-3fc390f36dcf"
   },
   "outputs": [
    {
     "name": "stdout",
     "output_type": "stream",
     "text": [
      "wet\n"
     ]
    }
   ],
   "source": [
    "d['fish'] = 'wet'\n",
    "print(d['fish'])"
   ]
  },
  {
   "cell_type": "markdown",
   "id": "critical-bulgaria",
   "metadata": {},
   "source": [
    "`KeyError`: 'monkey' not a key of d."
   ]
  },
  {
   "cell_type": "code",
   "execution_count": 36,
   "id": "moved-benchmark",
   "metadata": {
    "colab": {
     "base_uri": "https://localhost:8080/",
     "height": 165
    },
    "colab_type": "code",
    "id": "tFY065ItL9gi",
    "outputId": "7e42a5f0-1856-4608-a927-0930ab37a66c"
   },
   "outputs": [
    {
     "ename": "KeyError",
     "evalue": "'monkey'",
     "output_type": "error",
     "traceback": [
      "\u001b[0;31m---------------------------------------------------------------------------\u001b[0m",
      "\u001b[0;31mKeyError\u001b[0m                                  Traceback (most recent call last)",
      "\u001b[0;32m<ipython-input-36-ef9bb4954edb>\u001b[0m in \u001b[0;36m<module>\u001b[0;34m\u001b[0m\n\u001b[0;32m----> 1\u001b[0;31m \u001b[0mprint\u001b[0m\u001b[0;34m(\u001b[0m\u001b[0md\u001b[0m\u001b[0;34m[\u001b[0m\u001b[0;34m'monkey'\u001b[0m\u001b[0;34m]\u001b[0m\u001b[0;34m)\u001b[0m\u001b[0;34m\u001b[0m\u001b[0;34m\u001b[0m\u001b[0m\n\u001b[0m",
      "\u001b[0;31mKeyError\u001b[0m: 'monkey'"
     ]
    }
   ],
   "source": [
    "print(d['monkey'])"
   ]
  },
  {
   "cell_type": "markdown",
   "id": "enclosed-prior",
   "metadata": {},
   "source": [
    "Get an element with a default; prints \"N/A\""
   ]
  },
  {
   "cell_type": "code",
   "execution_count": 27,
   "id": "fallen-parks",
   "metadata": {
    "colab": {
     "base_uri": "https://localhost:8080/",
     "height": 52
    },
    "colab_type": "code",
    "id": "8TjbEWqML9gl",
    "outputId": "ef14d05e-401d-4d23-ed1a-0fe6b4c77d6f"
   },
   "outputs": [
    {
     "name": "stdout",
     "output_type": "stream",
     "text": [
      "N/A\n",
      "wet\n"
     ]
    }
   ],
   "source": [
    "print(d.get('monkey', 'N/A'))"
   ]
  },
  {
   "cell_type": "markdown",
   "id": "plastic-sense",
   "metadata": {},
   "source": [
    "Get an element with a default; prints \"wet\""
   ]
  },
  {
   "cell_type": "code",
   "execution_count": 37,
   "id": "injured-genealogy",
   "metadata": {},
   "outputs": [
    {
     "name": "stdout",
     "output_type": "stream",
     "text": [
      "wet\n"
     ]
    }
   ],
   "source": [
    "print(d.get('fish', 'N/A'))"
   ]
  },
  {
   "cell_type": "markdown",
   "id": "functioning-religious",
   "metadata": {},
   "source": [
    "Remove an element from a dictionary:"
   ]
  },
  {
   "cell_type": "code",
   "execution_count": 38,
   "id": "noted-caribbean",
   "metadata": {
    "colab": {
     "base_uri": "https://localhost:8080/",
     "height": 34
    },
    "colab_type": "code",
    "id": "0EItdNBJL9go",
    "outputId": "652a950f-b0c2-4623-98bd-0191b300cd57"
   },
   "outputs": [
    {
     "name": "stdout",
     "output_type": "stream",
     "text": [
      "N/A\n"
     ]
    }
   ],
   "source": [
    "del d['fish']\n",
    "print(d.get('fish', 'N/A'))"
   ]
  },
  {
   "cell_type": "markdown",
   "id": "antique-sierra",
   "metadata": {
    "colab_type": "text",
    "id": "wqm4dRZNL9gr"
   },
   "source": [
    "You can find all you need to know about dictionaries in the [documentation](https://docs.python.org/2/library/stdtypes.html#dict)."
   ]
  },
  {
   "cell_type": "markdown",
   "id": "biological-spanking",
   "metadata": {
    "colab_type": "text",
    "id": "IxwEqHlGL9gr"
   },
   "source": [
    "It is easy to iterate over the keys in a dictionary:"
   ]
  },
  {
   "cell_type": "code",
   "execution_count": 39,
   "id": "little-forum",
   "metadata": {
    "colab": {
     "base_uri": "https://localhost:8080/",
     "height": 69
    },
    "colab_type": "code",
    "id": "rYfz7ZKNL9gs",
    "outputId": "155bdb17-3179-4292-c832-8166e955e942"
   },
   "outputs": [
    {
     "name": "stdout",
     "output_type": "stream",
     "text": [
      "A person has 2 legs\n",
      "A cat has 4 legs\n",
      "A spider has 8 legs\n"
     ]
    }
   ],
   "source": [
    "d = {'person': 2, 'cat': 4, 'spider': 8}\n",
    "for animal, legs in d.items():\n",
    "    print('A {} has {} legs'.format(animal, legs))"
   ]
  },
  {
   "cell_type": "markdown",
   "id": "muslim-comment",
   "metadata": {
    "colab_type": "text",
    "id": "17sxiOpzL9gz"
   },
   "source": [
    "Dictionary comprehensions: These are similar to list comprehensions, but allow you to easily construct dictionaries. For example:"
   ]
  },
  {
   "cell_type": "code",
   "execution_count": 40,
   "id": "settled-toner",
   "metadata": {
    "colab": {
     "base_uri": "https://localhost:8080/",
     "height": 34
    },
    "colab_type": "code",
    "id": "8PB07imLL9gz",
    "outputId": "e9ddf886-39ed-4f35-dd80-64a19d2eec9b"
   },
   "outputs": [
    {
     "name": "stdout",
     "output_type": "stream",
     "text": [
      "{0: 0, 2: 4, 4: 16}\n"
     ]
    }
   ],
   "source": [
    "nums = [0, 1, 2, 3, 4]\n",
    "even_num_to_square = {x: x ** 2 for x in nums if x % 2 == 0}\n",
    "print(even_num_to_square)"
   ]
  },
  {
   "cell_type": "markdown",
   "id": "humanitarian-hormone",
   "metadata": {
    "colab_type": "text",
    "id": "V9MHfUdvL9g2"
   },
   "source": [
    "#### Sets"
   ]
  },
  {
   "cell_type": "markdown",
   "id": "raised-boston",
   "metadata": {
    "colab_type": "text",
    "id": "Rpm4UtNpL9g2"
   },
   "source": [
    "A set is an unordered collection of distinct elements. As a simple example, consider the following:"
   ]
  },
  {
   "cell_type": "markdown",
   "id": "robust-prince",
   "metadata": {},
   "source": [
    "Check if an element is in a set:"
   ]
  },
  {
   "cell_type": "code",
   "execution_count": 41,
   "id": "executive-reader",
   "metadata": {
    "colab": {
     "base_uri": "https://localhost:8080/",
     "height": 52
    },
    "colab_type": "code",
    "id": "MmyaniLsL9g2",
    "outputId": "8f152d48-0a07-432a-cf98-8de4fd57ddbb"
   },
   "outputs": [
    {
     "name": "stdout",
     "output_type": "stream",
     "text": [
      "True\n",
      "False\n"
     ]
    }
   ],
   "source": [
    "animals = {'cat', 'dog'}\n",
    "print('cat' in animals)\n",
    "print('fish' in animals)"
   ]
  },
  {
   "cell_type": "markdown",
   "id": "harmful-armor",
   "metadata": {},
   "source": [
    "Add an element to a set:"
   ]
  },
  {
   "cell_type": "code",
   "execution_count": 32,
   "id": "miniature-stereo",
   "metadata": {
    "colab": {
     "base_uri": "https://localhost:8080/",
     "height": 52
    },
    "colab_type": "code",
    "id": "ElJEyK86L9g6",
    "outputId": "b9d7dab9-5a98-41cd-efbc-786d0c4377f7"
   },
   "outputs": [
    {
     "name": "stdout",
     "output_type": "stream",
     "text": [
      "True\n",
      "3\n"
     ]
    }
   ],
   "source": [
    "animals.add('fish')\n",
    "print('fish' in animals)"
   ]
  },
  {
   "cell_type": "markdown",
   "id": "signal-advisory",
   "metadata": {},
   "source": [
    "Number of elements in a set:"
   ]
  },
  {
   "cell_type": "code",
   "execution_count": 42,
   "id": "further-latino",
   "metadata": {},
   "outputs": [
    {
     "name": "stdout",
     "output_type": "stream",
     "text": [
      "2\n"
     ]
    }
   ],
   "source": [
    "print(len(animals))"
   ]
  },
  {
   "cell_type": "markdown",
   "id": "convinced-shelter",
   "metadata": {},
   "source": [
    "Adding an element that is already in the set does nothing:"
   ]
  },
  {
   "cell_type": "code",
   "execution_count": 33,
   "id": "suited-format",
   "metadata": {
    "colab": {
     "base_uri": "https://localhost:8080/",
     "height": 52
    },
    "colab_type": "code",
    "id": "5uGmrxdPL9g9",
    "outputId": "e644d24c-26c6-4b43-ab15-8aa81fe884d4"
   },
   "outputs": [
    {
     "name": "stdout",
     "output_type": "stream",
     "text": [
      "3\n",
      "2\n"
     ]
    }
   ],
   "source": [
    "animals.add('cat')\n",
    "print(len(animals))          "
   ]
  },
  {
   "cell_type": "markdown",
   "id": "impressive-sampling",
   "metadata": {},
   "source": [
    "Remove an element from a set:"
   ]
  },
  {
   "cell_type": "code",
   "execution_count": 43,
   "id": "touched-director",
   "metadata": {},
   "outputs": [
    {
     "name": "stdout",
     "output_type": "stream",
     "text": [
      "1\n"
     ]
    }
   ],
   "source": [
    "animals.remove('cat')\n",
    "print(len(animals))"
   ]
  },
  {
   "cell_type": "markdown",
   "id": "hawaiian-tulsa",
   "metadata": {
    "colab_type": "text",
    "id": "zk2DbvLKL9g_"
   },
   "source": [
    "*Loops*: Iterating over a set has the same syntax as iterating over a list; however since sets are unordered, you cannot make assumptions about the order in which you visit the elements of the set:"
   ]
  },
  {
   "cell_type": "code",
   "execution_count": 35,
   "id": "differential-mouse",
   "metadata": {
    "colab": {
     "base_uri": "https://localhost:8080/",
     "height": 69
    },
    "colab_type": "code",
    "id": "K47KYNGyL9hA",
    "outputId": "4477f897-4355-4816-b39b-b93ffbac4bf0"
   },
   "outputs": [
    {
     "name": "stdout",
     "output_type": "stream",
     "text": [
      "#1: dog\n",
      "#2: fish\n",
      "#3: cat\n"
     ]
    }
   ],
   "source": [
    "animals = {'cat', 'dog', 'fish'}\n",
    "for idx, animal in enumerate(animals):\n",
    "    print('#{}: {}'.format(idx + 1, animal))"
   ]
  },
  {
   "cell_type": "markdown",
   "id": "federal-preference",
   "metadata": {
    "colab_type": "text",
    "id": "puq4S8buL9hC"
   },
   "source": [
    "Set comprehensions: Like lists and dictionaries, we can easily construct sets using set comprehensions:"
   ]
  },
  {
   "cell_type": "code",
   "execution_count": 36,
   "id": "organizational-christopher",
   "metadata": {
    "colab": {
     "base_uri": "https://localhost:8080/",
     "height": 34
    },
    "colab_type": "code",
    "id": "iw7k90k3L9hC",
    "outputId": "72d6b824-6d31-47b2-f929-4cf434590ee5"
   },
   "outputs": [
    {
     "name": "stdout",
     "output_type": "stream",
     "text": [
      "{0, 1, 2, 3, 4, 5}\n"
     ]
    }
   ],
   "source": [
    "from math import sqrt\n",
    "print({int(sqrt(x)) for x in range(30)})"
   ]
  },
  {
   "cell_type": "markdown",
   "id": "dying-pavilion",
   "metadata": {
    "colab_type": "text",
    "id": "qPsHSKB1L9hF"
   },
   "source": [
    "#### Tuples"
   ]
  },
  {
   "cell_type": "markdown",
   "id": "thrown-petroleum",
   "metadata": {
    "colab_type": "text",
    "id": "kucc0LKVL9hG"
   },
   "source": [
    "A tuple is an (immutable) ordered list of values. A tuple is in many ways similar to a list; one of the most important differences is that tuples can be used as keys in dictionaries and as elements of sets, while lists cannot. Here is a trivial example:"
   ]
  },
  {
   "cell_type": "markdown",
   "id": "instant-serve",
   "metadata": {},
   "source": [
    "Create a dictionary with tuple keys:"
   ]
  },
  {
   "cell_type": "code",
   "execution_count": 44,
   "id": "antique-thing",
   "metadata": {
    "colab": {
     "base_uri": "https://localhost:8080/",
     "height": 69
    },
    "colab_type": "code",
    "id": "9wHUyTKxL9hH",
    "outputId": "cdc5f620-04fe-4b0b-df7a-55b061d23d88"
   },
   "outputs": [
    {
     "name": "stdout",
     "output_type": "stream",
     "text": [
      "<class 'tuple'>\n",
      "5\n",
      "1\n"
     ]
    }
   ],
   "source": [
    "d = {(x, x + 1): x for x in range(10)}\n",
    "t = (5, 6)\n",
    "print(type(t))\n",
    "print(d[t])       \n",
    "print(d[(1, 2)])"
   ]
  }
 ],
 "metadata": {
  "kernelspec": {
   "display_name": "Python 3",
   "language": "python",
   "name": "python3"
  },
  "language_info": {
   "codemirror_mode": {
    "name": "ipython",
    "version": 3
   },
   "file_extension": ".py",
   "mimetype": "text/x-python",
   "name": "python",
   "nbconvert_exporter": "python",
   "pygments_lexer": "ipython3",
   "version": "3.7.4"
  }
 },
 "nbformat": 4,
 "nbformat_minor": 5
}
